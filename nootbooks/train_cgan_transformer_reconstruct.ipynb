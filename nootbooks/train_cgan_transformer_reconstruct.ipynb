{
 "nbformat": 4,
 "nbformat_minor": 0,
 "metadata": {
  "colab": {
   "name": "train_cgan_transformer_reconstruct.ipynb",
   "provenance": [],
   "collapsed_sections": [],
   "toc_visible": true,
   "authorship_tag": "ABX9TyOX4mzoR+HgUNKQhHB5A6Vt"
  },
  "kernelspec": {
   "name": "python3",
   "language": "python",
   "display_name": "Python 3"
  },
  "language_info": {
   "name": "python"
  },
  "accelerator": "GPU"
 },
 "cells": [
  {
   "cell_type": "markdown",
   "metadata": {
    "id": "N3VF80P2CP6K"
   },
   "source": [
    "# cGAN transformer 重建"
   ]
  },
  {
   "cell_type": "code",
   "metadata": {
    "id": "rCH70D0LRqzx"
   },
   "source": [
    "import os\n",
    "import io\n",
    "import cv2\n",
    "import copy\n",
    "import math\n",
    "import random\n",
    "import numpy as np\n",
    "import pickle as pkl\n",
    "import open3d as o3d\n",
    "from collections import deque\n",
    "from tqdm import tqdm, trange\n",
    "from typing import Optional, Any, Deque, Dict, List, Tuple\n",
    "\n",
    "%matplotlib inline\n",
    "import matplotlib.pyplot as plt\n",
    "\n",
    "import torch\n",
    "import torch.nn as nn\n",
    "import torch.optim as optim\n",
    "import torch.nn.functional as F\n",
    "import torch.nn.utils.rnn as rnn_utils\n",
    "from torch import Tensor\n",
    "from torch.nn.modules.module import Module\n",
    "from torch.nn.modules.activation import MultiheadAttention\n",
    "from torch.nn.modules.container import ModuleList\n",
    "from torch.nn.modules.dropout import Dropout\n",
    "from torch.nn.modules.linear import Linear\n",
    "from torch.nn.modules.normalization import LayerNorm\n",
    "from torch.autograd import Variable\n",
    "from torch.utils.data.dataset import Dataset\n",
    "from torch.utils.data import DataLoader, random_split"
   ],
   "execution_count": 1,
   "outputs": [
    {
     "name": "stdout",
     "output_type": "stream",
     "text": [
      "Jupyter environment detected. Enabling Open3D WebVisualizer.\n",
      "[Open3D INFO] WebRTC GUI backend enabled.\n",
      "[Open3D INFO] WebRTCWindowSystem: HTTP handshake server disabled.\n"
     ]
    }
   ]
  },
  {
   "cell_type": "markdown",
   "metadata": {
    "id": "BieE4DRfs9ud"
   },
   "source": [
    "## 超参数\n",
    "\n",
    "\n",
    "使用2080ti 12gb cuda epoch=100, batch_size=24\n",
    "\n"
   ]
  },
  {
   "cell_type": "code",
   "metadata": {
    "id": "s_2P_EuJs_6e"
   },
   "source": [
    "parameters = dict(\n",
    "    batch_size=24,\n",
    "    nhead_attention=8,\n",
    "    encoder_layer=6,\n",
    "    decoder_layer=6,\n",
    "    feature_dim=7,\n",
    "    embed_dim=64,\n",
    "    patch_size=1,\n",
    "    epoch=100,\n",
    "    beta1=0.5,\n",
    "    learning_rate=3e-4,\n",
    "    lambda_l1=1,\n",
    "    vis_num=4,\n",
    "    visualize_epoch=2,\n",
    ")\n",
    "class Struct:\n",
    "    def __init__(self, **entries):\n",
    "        self.__dict__.update(entries)\n",
    "config = Struct(**parameters)"
   ],
   "execution_count": 2,
   "outputs": []
  },
  {
   "cell_type": "markdown",
   "metadata": {
    "id": "bwAJwKfPwR9c"
   },
   "source": [
    "## 数据集转化为key标签模式"
   ]
  },
  {
   "cell_type": "markdown",
   "metadata": {
    "id": "lhiKRPA9t-_w"
   },
   "source": [
    "由于 mmwave_radar 维度不固定\n",
    "对每个数据进行pack（rnn_utils.pack_padded_sequence）\n",
    "https://pytorch.org/docs/stable/generated/torch.nn.utils.rnn.pack_padded_sequence.html\n"
   ]
  },
  {
   "cell_type": "code",
   "metadata": {
    "id": "cIw3l4GssPhC"
   },
   "source": [
    "# rnn_utils.pack_sequence\n",
    "def collate_fn(batch):\n",
    "    lidar = torch.Tensor([item[0] for item in batch])\n",
    "    radar = [torch.Tensor(item[1]) for item in batch]\n",
    "\n",
    "    lengths = torch.Tensor([len(r) for r in radar])\n",
    "\n",
    "    radar = rnn_utils.pad_sequence(radar, batch_first=False, padding_value=0)\n",
    "    radar = rnn_utils.pack_padded_sequence(\n",
    "        radar, lengths, batch_first=False, enforce_sorted=False)\n",
    "\n",
    "    return lidar, radar\n"
   ],
   "execution_count": 3,
   "outputs": []
  },
  {
   "cell_type": "code",
   "metadata": {
    "id": "M3BwVMwvyhH-"
   },
   "source": [
    "class RadarDataset(Dataset):\n",
    "    def __init__(\n",
    "        self,\n",
    "        folder='../datasetpkl/pkl/',\n",
    "        remove_oulier=None,\n",
    "        scene='all',\n",
    "    ):\n",
    "        scene_files = {\n",
    "            'corridor': [\n",
    "                '0717_1411','0720_1129','0722_1428','0722_1437','0722_1448',\n",
    "                '0722_1500','0722_1506','0722_1510','0722_1514','0724_1101',\n",
    "                '0724_1132','0724_1204','0727_1005','0727_1027','0727_1102',\n",
    "                '0727_1435','0727_1452','0727_1510','0727_1520','0805_1108',\n",
    "                '0805_1127','0805_1147'\n",
    "            ],\n",
    "            'parking': [\n",
    "                '0717_1504','0720_1105','0805_1349','0805_1425'\n",
    "            ]\n",
    "        }\n",
    "        paths = []\n",
    "        allfiles = os.listdir(folder)\n",
    "        allfiles.sort()\n",
    "        files = []\n",
    "        print('scene: ', scene)\n",
    "\n",
    "        if scene=='all':\n",
    "          files = allfiles\n",
    "        else:\n",
    "          for f in allfiles:\n",
    "            if f[-4:] == '.pkl' and any(s in f for s in scene_files[scene]):\n",
    "              files.append(f)\n",
    "\n",
    "        self.data = []\n",
    "        for f in files:\n",
    "            with open(folder+f, 'rb') as h:\n",
    "                self.data.extend(pkl.load(h))\n",
    "        print('dataset loaded, length:%d' % len(self.data))\n",
    "\n",
    "        self.remove_oulier = remove_oulier\n",
    "        if remove_oulier is not None:\n",
    "            print('remove outlier=%f' % remove_oulier)\n",
    "\n",
    "    def __getitem__(self, index):\n",
    "\n",
    "        d = self.data[index]\n",
    "\n",
    "        # t = d[0]\n",
    "        lidar = d[1:242]\n",
    "        radar = d[242:].reshape(-1, 7)\n",
    "\n",
    "        if self.remove_oulier is not None:\n",
    "            pt = radar[:, 2:5]\n",
    "            pcd = o3d.geometry.PointCloud()\n",
    "            pcd.points = o3d.utility.Vector3dVector(pt)\n",
    "            cl, ind = pcd.remove_radius_outlier(\n",
    "                nb_points=1, radius=self.remove_oulier)\n",
    "            radar = radar[ind]\n",
    "\n",
    "        return lidar, radar\n",
    "\n",
    "    def __len__(self):\n",
    "        return len(self.data)"
   ],
   "execution_count": 8,
   "outputs": []
  },
  {
   "cell_type": "code",
   "metadata": {
    "id": "Et9W0f6Z0EG7",
    "colab": {
     "base_uri": "https://localhost:8080/"
    },
    "executionInfo": {
     "status": "ok",
     "timestamp": 1626265953738,
     "user_tz": -480,
     "elapsed": 1073,
     "user": {
      "displayName": "Jui-Te Huang",
      "photoUrl": "https://lh3.googleusercontent.com/a-/AOh14GioA6PIPFKbZb2-aw0ScD3obxPh0H9bkT1cyakMog=s64",
      "userId": "03810060886891291687"
     }
    },
    "outputId": "70f1b51b-91e8-4bfe-aebe-4ce5b7876f91"
   },
   "source": [
    "radar_dataset = RadarDataset(scene='all')\n",
    "\n",
    "train_loader = DataLoader(\n",
    "    dataset=radar_dataset,\n",
    "    batch_size=config.batch_size,\n",
    "    shuffle=True,\n",
    "    num_workers=2,\n",
    "    collate_fn=collate_fn,\n",
    ")"
   ],
   "execution_count": 9,
   "outputs": [
    {
     "name": "stdout",
     "output_type": "stream",
     "text": [
      "scene:  all\n",
      "dataset loaded, length:113431\n"
     ]
    }
   ]
  },
  {
   "cell_type": "markdown",
   "metadata": {
    "id": "NlobJ8GhS_dC"
   },
   "source": [
    "## 修改transformer源码\n",
    "\n",
    "https://pytorch.org/docs/stable/nn.html#transformer-layers\n",
    "\n",
    "\n",
    "### 原transformer模型\n",
    "<img src=\"https://drive.google.com/uc?id=1duAOs6oUsgQg2MnqeK2A9U3ZgsbAKalq\" alt=\"mha\" height=\"700\"/>\n",
    "<img src=\"https://drive.google.com/uc?id=1sSEmh4vyY97ZXKKDme2jEEjbsFERx8PU\" alt=\"mha\" height=\"350\"/>\n"
   ]
  },
  {
   "cell_type": "code",
   "metadata": {
    "id": "uLRz42flS8M7"
   },
   "source": [
    "class TransformerEncoder(Module):\n",
    "    r\"\"\"TransformerEncoder is a stack of N encoder layers\n",
    "    Args:\n",
    "        encoder_layer: an instance of the TransformerEncoderLayer() class (required).\n",
    "        num_layers: the number of sub-encoder-layers in the encoder (required).\n",
    "        norm: the layer normalization component (optional).\n",
    "    Examples::\n",
    "        >>> encoder_layer = nn.TransformerEncoderLayer(d_model=512, nhead=8)\n",
    "        >>> transformer_encoder = nn.TransformerEncoder(encoder_layer, num_layers=6)\n",
    "        >>> src = torch.rand(10, 32, 512)\n",
    "        >>> out = transformer_encoder(src)\n",
    "    \"\"\"\n",
    "    __constants__ = ['norm']\n",
    "\n",
    "    def __init__(self, encoder_layer, num_layers, norm=None):\n",
    "        super(TransformerEncoder, self).__init__()\n",
    "        self.layers = _get_clones(encoder_layer, num_layers)\n",
    "        self.num_layers = num_layers\n",
    "        self.norm = norm\n",
    "\n",
    "    def forward(self, src: Tensor, mask: Optional[Tensor] = None, src_key_padding_mask: Optional[Tensor] = None) -> Tensor:\n",
    "        r\"\"\"Pass the input through the encoder layers in turn.\n",
    "        Args:\n",
    "            src: the sequence to the encoder (required).\n",
    "            mask: the mask for the src sequence (optional).\n",
    "            src_key_padding_mask: the mask for the src keys per batch (optional).\n",
    "        Shape:\n",
    "            see the docs in Transformer class.\n",
    "        \"\"\"\n",
    "        output = src\n",
    "\n",
    "        attention_maps = None\n",
    "\n",
    "        for mod in self.layers:\n",
    "            output, att_map = mod(\n",
    "                output, src_mask=mask, src_key_padding_mask=src_key_padding_mask)\n",
    "\n",
    "            att_map = torch.unsqueeze(att_map, dim=1)\n",
    "            if attention_maps is None:\n",
    "                attention_maps = att_map\n",
    "            else:\n",
    "                attention_maps = torch.cat((attention_maps, att_map), dim=1)\n",
    "\n",
    "        if self.norm is not None:\n",
    "            output = self.norm(output)\n",
    "\n",
    "        return output, attention_maps\n",
    "\n",
    "\n",
    "class TransformerDecoder(Module):\n",
    "    r\"\"\"TransformerDecoder is a stack of N decoder layers\n",
    "    Args:\n",
    "        decoder_layer: an instance of the TransformerDecoderLayer() class (required).\n",
    "        num_layers: the number of sub-decoder-layers in the decoder (required).\n",
    "        norm: the layer normalization component (optional).\n",
    "    Examples::\n",
    "        >>> decoder_layer = nn.TransformerDecoderLayer(d_model=512, nhead=8)\n",
    "        >>> transformer_decoder = nn.TransformerDecoder(decoder_layer, num_layers=6)\n",
    "        >>> memory = torch.rand(10, 32, 512)\n",
    "        >>> tgt = torch.rand(20, 32, 512)\n",
    "        >>> out = transformer_decoder(tgt, memory)\n",
    "    \"\"\"\n",
    "    __constants__ = ['norm']\n",
    "\n",
    "    def __init__(self, decoder_layer, num_layers, norm=None):\n",
    "        super(TransformerDecoder, self).__init__()\n",
    "        self.layers = _get_clones(decoder_layer, num_layers)\n",
    "        self.num_layers = num_layers\n",
    "        self.norm = norm\n",
    "\n",
    "    def forward(self, tgt: Tensor, memory: Tensor, tgt_mask: Optional[Tensor] = None,\n",
    "                memory_mask: Optional[Tensor] = None, tgt_key_padding_mask: Optional[Tensor] = None,\n",
    "                memory_key_padding_mask: Optional[Tensor] = None) -> Tensor:\n",
    "        r\"\"\"Pass the inputs (and mask) through the decoder layer in turn.\n",
    "        Args:\n",
    "            tgt: the sequence to the decoder (required).\n",
    "            memory: the sequence from the last layer of the encoder (required).\n",
    "            tgt_mask: the mask for the tgt sequence (optional).\n",
    "            memory_mask: the mask for the memory sequence (optional).\n",
    "            tgt_key_padding_mask: the mask for the tgt keys per batch (optional).\n",
    "            memory_key_padding_mask: the mask for the memory keys per batch (optional).\n",
    "        Shape:\n",
    "            see the docs in Transformer class.\n",
    "        \"\"\"\n",
    "        output = tgt\n",
    "\n",
    "        attention_maps = None\n",
    "\n",
    "        for mod in self.layers:\n",
    "            output, att_map = mod(output, memory, tgt_mask=tgt_mask,\n",
    "                                  memory_mask=memory_mask,\n",
    "                                  tgt_key_padding_mask=tgt_key_padding_mask,\n",
    "                                  memory_key_padding_mask=memory_key_padding_mask)\n",
    "\n",
    "            att_map = torch.unsqueeze(att_map, dim=1)\n",
    "            if attention_maps is None:\n",
    "                attention_maps = att_map\n",
    "            else:\n",
    "                attention_maps = torch.cat((attention_maps, att_map), dim=1)\n",
    "\n",
    "        if self.norm is not None:\n",
    "            output = self.norm(output)\n",
    "\n",
    "        return output, attention_maps\n",
    "\n",
    "\n",
    "class TransformerEncoderLayer(Module):\n",
    "    r\"\"\"TransformerEncoderLayer is made up of self-attn and feedforward network.\n",
    "    This standard encoder layer is based on the paper \"Attention Is All You Need\".\n",
    "    Ashish Vaswani, Noam Shazeer, Niki Parmar, Jakob Uszkoreit, Llion Jones, Aidan N Gomez,\n",
    "    Lukasz Kaiser, and Illia Polosukhin. 2017. Attention is all you need. In Advances in\n",
    "    Neural Information Processing Systems, pages 6000-6010. Users may modify or implement\n",
    "    in a different way during application.\n",
    "    Args:\n",
    "        d_model: the number of expected features in the input (required).\n",
    "        nhead: the number of heads in the multiheadattention models (required).\n",
    "        dim_feedforward: the dimension of the feedforward network model (default=2048).\n",
    "        dropout: the dropout value (default=0.1).\n",
    "        activation: the activation function of intermediate layer, relu or gelu (default=relu).\n",
    "    Examples::\n",
    "        >>> encoder_layer = nn.TransformerEncoderLayer(d_model=512, nhead=8)\n",
    "        >>> src = torch.rand(10, 32, 512)\n",
    "        >>> out = encoder_layer(src)\n",
    "    \"\"\"\n",
    "\n",
    "    def __init__(self, d_model, nhead, dim_feedforward=2048, dropout=0.1, activation=\"relu\"):\n",
    "        super(TransformerEncoderLayer, self).__init__()\n",
    "        self.self_attn = MultiheadAttention(d_model, nhead, dropout=dropout)\n",
    "        # Implementation of Feedforward model\n",
    "        self.linear1 = Linear(d_model, dim_feedforward)\n",
    "        self.dropout = Dropout(dropout)\n",
    "        self.linear2 = Linear(dim_feedforward, d_model)\n",
    "\n",
    "        self.norm1 = LayerNorm(d_model)\n",
    "        self.norm2 = LayerNorm(d_model)\n",
    "        self.dropout1 = Dropout(dropout)\n",
    "        self.dropout2 = Dropout(dropout)\n",
    "\n",
    "        self.activation = _get_activation_fn(activation)\n",
    "\n",
    "    def __setstate__(self, state):\n",
    "        if 'activation' not in state:\n",
    "            state['activation'] = F.relu\n",
    "        super(TransformerEncoderLayer, self).__setstate__(state)\n",
    "\n",
    "    def forward(self, src: Tensor, src_mask: Optional[Tensor] = None, src_key_padding_mask: Optional[Tensor] = None) -> Tensor:\n",
    "        r\"\"\"Pass the input through the encoder layer.\n",
    "        Args:\n",
    "            src: the sequence to the encoder layer (required).\n",
    "            src_mask: the mask for the src sequence (optional).\n",
    "            src_key_padding_mask: the mask for the src keys per batch (optional).\n",
    "        Shape:\n",
    "            see the docs in Transformer class.\n",
    "        \"\"\"\n",
    "        src2, attention_map = self.self_attn(src, src, src, attn_mask=src_mask,\n",
    "                                             key_padding_mask=src_key_padding_mask)\n",
    "        src = src + self.dropout1(src2)\n",
    "        src = self.norm1(src)\n",
    "        src2 = self.linear2(self.dropout(self.activation(self.linear1(src))))\n",
    "        src = src + self.dropout2(src2)\n",
    "        src = self.norm2(src)\n",
    "        return src, attention_map\n",
    "\n",
    "\n",
    "class TransformerDecoderLayer(Module):\n",
    "    r\"\"\"TransformerDecoderLayer is made up of self-attn, multi-head-attn and feedforward network.\n",
    "    This standard decoder layer is based on the paper \"Attention Is All You Need\".\n",
    "    Ashish Vaswani, Noam Shazeer, Niki Parmar, Jakob Uszkoreit, Llion Jones, Aidan N Gomez,\n",
    "    Lukasz Kaiser, and Illia Polosukhin. 2017. Attention is all you need. In Advances in\n",
    "    Neural Information Processing Systems, pages 6000-6010. Users may modify or implement\n",
    "    in a different way during application.\n",
    "    Args:\n",
    "        d_model: the number of expected features in the input (required).\n",
    "        nhead: the number of heads in the multiheadattention models (required).\n",
    "        dim_feedforward: the dimension of the feedforward network model (default=2048).\n",
    "        dropout: the dropout value (default=0.1).\n",
    "        activation: the activation function of intermediate layer, relu or gelu (default=relu).\n",
    "    Examples::\n",
    "        >>> decoder_layer = nn.TransformerDecoderLayer(d_model=512, nhead=8)\n",
    "        >>> memory = torch.rand(10, 32, 512)\n",
    "        >>> tgt = torch.rand(20, 32, 512)\n",
    "        >>> out = decoder_layer(tgt, memory)\n",
    "    \"\"\"\n",
    "\n",
    "    def __init__(self, d_model, nhead, dim_feedforward=2048, dropout=0.1, activation=\"relu\"):\n",
    "        super(TransformerDecoderLayer, self).__init__()\n",
    "        self.self_attn = MultiheadAttention(d_model, nhead, dropout=dropout)\n",
    "        self.multihead_attn = MultiheadAttention(\n",
    "            d_model, nhead, dropout=dropout)\n",
    "        # Implementation of Feedforward model\n",
    "        self.linear1 = Linear(d_model, dim_feedforward)\n",
    "        self.dropout = Dropout(dropout)\n",
    "        self.linear2 = Linear(dim_feedforward, d_model)\n",
    "\n",
    "        self.norm1 = LayerNorm(d_model)\n",
    "        self.norm2 = LayerNorm(d_model)\n",
    "        self.norm3 = LayerNorm(d_model)\n",
    "        self.dropout1 = Dropout(dropout)\n",
    "        self.dropout2 = Dropout(dropout)\n",
    "        self.dropout3 = Dropout(dropout)\n",
    "\n",
    "        self.activation = _get_activation_fn(activation)\n",
    "\n",
    "    def __setstate__(self, state):\n",
    "        if 'activation' not in state:\n",
    "            state['activation'] = F.relu\n",
    "        super(TransformerDecoderLayer, self).__setstate__(state)\n",
    "\n",
    "    def forward(self, tgt: Tensor, memory: Tensor, tgt_mask: Optional[Tensor] = None, memory_mask: Optional[Tensor] = None,\n",
    "                tgt_key_padding_mask: Optional[Tensor] = None, memory_key_padding_mask: Optional[Tensor] = None) -> Tensor:\n",
    "        r\"\"\"Pass the inputs (and mask) through the decoder layer.\n",
    "        Args:\n",
    "            tgt: the sequence to the decoder layer (required).\n",
    "            memory: the sequence from the last layer of the encoder (required).\n",
    "            tgt_mask: the mask for the tgt sequence (optional).\n",
    "            memory_mask: the mask for the memory sequence (optional).\n",
    "            tgt_key_padding_mask: the mask for the tgt keys per batch (optional).\n",
    "            memory_key_padding_mask: the mask for the memory keys per batch (optional).\n",
    "        Shape:\n",
    "            see the docs in Transformer class.\n",
    "        \"\"\"\n",
    "        tgt2 = self.self_attn(tgt, tgt, tgt, attn_mask=tgt_mask,\n",
    "                                             key_padding_mask=tgt_key_padding_mask)[0]\n",
    "        tgt = tgt + self.dropout1(tgt2)\n",
    "        tgt = self.norm1(tgt)\n",
    "        tgt2, attention_map = self.multihead_attn(tgt, memory, memory, attn_mask=memory_mask,\n",
    "                                   key_padding_mask=memory_key_padding_mask)\n",
    "        tgt = tgt + self.dropout2(tgt2)\n",
    "        tgt = self.norm2(tgt)\n",
    "        tgt2 = self.linear2(self.dropout(self.activation(self.linear1(tgt))))\n",
    "        tgt = tgt + self.dropout3(tgt2)\n",
    "        tgt = self.norm3(tgt)\n",
    "        return tgt, attention_map\n",
    "\n",
    "\n",
    "def _get_clones(module, N):\n",
    "    return ModuleList([copy.deepcopy(module) for i in range(N)])\n",
    "\n",
    "\n",
    "def _get_activation_fn(activation):\n",
    "    if activation == \"relu\":\n",
    "        return F.relu\n",
    "    elif activation == \"gelu\":\n",
    "        return F.gelu\n",
    "\n",
    "    raise RuntimeError(\n",
    "        \"activation should be relu/gelu, not {}\".format(activation))"
   ],
   "execution_count": 10,
   "outputs": []
  },
  {
   "cell_type": "markdown",
   "metadata": {
    "id": "uvAM-RAeW79q"
   },
   "source": [
    "## radar trnasformer\n",
    "使用注意力机制处理毫米波3d点云"
   ]
  },
  {
   "cell_type": "markdown",
   "metadata": {
    "id": "6rNhVAWLWplT"
   },
   "source": [
    "### generator\n",
    "transformer encoder+decoder\n",
    "\n",
    "### Generator L=6\n",
    "<img src=\"https://drive.google.com/uc?id=1QM7Jv3xGBEuptXsR5RetXcNRLdcXfieA\" alt=\"netG\" height=\"600\"/>\n"
   ]
  },
  {
   "cell_type": "code",
   "metadata": {
    "id": "Len6rV5ZToe5"
   },
   "source": [
    "class RadarTransformer(nn.Module):\n",
    "    def __init__(\n",
    "        self,\n",
    "        features=7,\n",
    "        embed_dim=64,\n",
    "        nhead=8,\n",
    "        encoder_layers=6,\n",
    "        decoder_layers=6,\n",
    "    ):\n",
    "        super(RadarTransformer, self).__init__()\n",
    "\n",
    "        # linear projection layer\n",
    "        self.linear_projection = nn.Linear(features, embed_dim)\n",
    "\n",
    "        # transformer encder block\n",
    "        encoder_layer = TransformerEncoderLayer(\n",
    "            d_model=embed_dim,\n",
    "            nhead=nhead\n",
    "        )\n",
    "        self.transformer_encoder = TransformerEncoder(\n",
    "            encoder_layer,\n",
    "            num_layers=encoder_layers\n",
    "        )\n",
    "\n",
    "        # decoder queries\n",
    "        self.quries = nn.Parameter(torch.randn(241, 1, embed_dim))\n",
    "\n",
    "        # transformer decoder layer\n",
    "        decoder_layer = TransformerDecoderLayer(\n",
    "            d_model=embed_dim,\n",
    "            nhead=nhead,\n",
    "        )\n",
    "        self.transformer_decoder = TransformerDecoder(\n",
    "            decoder_layer,\n",
    "            num_layers=decoder_layers,\n",
    "        )\n",
    "\n",
    "        # linear to output ranges\n",
    "        self.linear_to_range = nn.Linear(embed_dim, 1)\n",
    "\n",
    "    def forward(self, x, pad_mask, attention_map=False):\n",
    "        n, b, _ = x.shape\n",
    "\n",
    "        x = self.linear_projection(x)\n",
    "\n",
    "        # transformer encoder\n",
    "        x, ecd_att_map = self.transformer_encoder(\n",
    "            x,\n",
    "            src_key_padding_mask=pad_mask\n",
    "        )\n",
    "        # print(ecd_att_map.shape)\n",
    "\n",
    "        # generate queries\n",
    "        qur = self.quries.repeat(1, b, 1)\n",
    "\n",
    "        # transformer decoder\n",
    "        decoded, dcd_att_map = self.transformer_decoder(\n",
    "            tgt=qur,\n",
    "            memory=x,\n",
    "            memory_key_padding_mask=pad_mask,\n",
    "        )\n",
    "\n",
    "        # project to ranges\n",
    "        ranges = self.linear_to_range(decoded)\n",
    "        ranges = torch.squeeze(ranges)\n",
    "        if b>1:\n",
    "            ranges = torch.transpose(ranges, 0, 1)\n",
    "\n",
    "        if attention_map:\n",
    "            return ranges, ecd_att_map, dcd_att_map\n",
    "        else:\n",
    "            return ranges"
   ],
   "execution_count": 11,
   "outputs": []
  },
  {
   "cell_type": "markdown",
   "metadata": {
    "id": "-F8eYeqvWjiY"
   },
   "source": [
    "### discriminator\n",
    "transformer decoder\n",
    "\n",
    "\n",
    "### Discriminator L=6\n",
    "<img src=\"https://drive.google.com/uc?id=1hAYq0GknCIa5LbGoBxOPBpDriWBAj70l\" alt=\"netG\" height=\"350\"/>\n"
   ]
  },
  {
   "cell_type": "code",
   "metadata": {
    "id": "WBWLeSdNWiZ7"
   },
   "source": [
    "class DiscriminatorTransform(nn.Module):\n",
    "    def __init__(\n",
    "        self,\n",
    "        features=7,\n",
    "        embed_dim=64,\n",
    "        nhead=8,\n",
    "        layers=6,\n",
    "        patch_size=14,\n",
    "    ):\n",
    "        super(DiscriminatorTransform, self).__init__()\n",
    "\n",
    "        # linear projection layer\n",
    "        self.linear_projection = nn.Linear(features, embed_dim)\n",
    "        self.linear_projection_laser = nn.Linear(1, embed_dim)\n",
    "\n",
    "        # learnable extra token positioned\n",
    "        self.patch_size = patch_size\n",
    "        self.cls = nn.Parameter(torch.randn(patch_size, 1, embed_dim))\n",
    "\n",
    "        # positional embedding for laser token\n",
    "        self.pos_embedding = nn.Parameter(\n",
    "            torch.randn(self.patch_size+241, 1, embed_dim))\n",
    "\n",
    "        # transformer decoder block\n",
    "        decoder_layer = TransformerDecoderLayer(\n",
    "            d_model=embed_dim,\n",
    "            nhead=nhead,\n",
    "        )\n",
    "        self.transformer_decoder = TransformerDecoder(\n",
    "            decoder_layer,\n",
    "            num_layers=layers,\n",
    "        )\n",
    "\n",
    "        self.linear2patch = nn.Linear(embed_dim, 1)\n",
    "\n",
    "    def forward(self, radar, pad_mask, laser, need_attention_map=False):\n",
    "        n, b, _ = radar.shape\n",
    "\n",
    "        radar = self.linear_projection(radar)\n",
    "\n",
    "        laser = torch.transpose(laser, 0, 1)\n",
    "        laser = torch.unsqueeze(laser, 2)\n",
    "        laser = self.linear_projection_laser(laser)\n",
    "\n",
    "        cls_tokens = self.cls.repeat(1, b, 1)\n",
    "\n",
    "        # concat tokens to first position\n",
    "        input_seq = torch.cat((cls_tokens, laser), dim=0)\n",
    "        input_seq += self.pos_embedding\n",
    "\n",
    "        # transformer encoder\n",
    "        output_seq, dcd_att_map = self.transformer_decoder(\n",
    "            tgt=input_seq,\n",
    "            memory=radar,\n",
    "            memory_key_padding_mask=pad_mask,\n",
    "        )\n",
    "\n",
    "        # cls head for patch gan\n",
    "        cls_heads = output_seq[:self.patch_size, :, :]\n",
    "        cls_heads = self.linear2patch(cls_heads)\n",
    "        cls_heads = torch.transpose(cls_heads, 0, 1)\n",
    "        cls_heads = torch.squeeze(cls_heads)\n",
    "\n",
    "        return cls_heads"
   ],
   "execution_count": 12,
   "outputs": []
  },
  {
   "cell_type": "markdown",
   "metadata": {
    "id": "9_sptZ2rTsdK"
   },
   "source": [
    "## train cGAN"
   ]
  },
  {
   "cell_type": "markdown",
   "metadata": {
    "id": "0hVVKsJIuvJr"
   },
   "source": [
    "### config"
   ]
  },
  {
   "cell_type": "code",
   "metadata": {
    "colab": {
     "base_uri": "https://localhost:8080/"
    },
    "id": "hDH1MgYpushC",
    "executionInfo": {
     "status": "ok",
     "timestamp": 1626188791877,
     "user_tz": -480,
     "elapsed": 9669,
     "user": {
      "displayName": "Jui-Te Huang",
      "photoUrl": "https://lh3.googleusercontent.com/a-/AOh14GioA6PIPFKbZb2-aw0ScD3obxPh0H9bkT1cyakMog=s64",
      "userId": "03810060886891291687"
     }
    },
    "outputId": "150cf2fb-6661-4887-9974-6996dd62fe7b"
   },
   "source": [
    "device = torch.device(\n",
    "    \"cuda\" if torch.cuda.is_available() else \"cpu\"\n",
    ")\n",
    "print(device)\n",
    "\n",
    "netG = RadarTransformer(\n",
    "    features=config.feature_dim,\n",
    "    embed_dim=config.embed_dim,\n",
    "    nhead=config.nhead_attention,\n",
    "    encoder_layers=config.encoder_layer,\n",
    "    decoder_layers=config.decoder_layer,\n",
    ").to(device)\n",
    "\n",
    "netD = DiscriminatorTransform(\n",
    "    features=config.feature_dim,\n",
    "    embed_dim=config.embed_dim,\n",
    "    nhead=config.nhead_attention,\n",
    "    layers=config.decoder_layer,\n",
    "    patch_size=config.patch_size,\n",
    ").to(device)\n",
    "\n",
    "# optimizers\n",
    "optimizer_g = optim.Adam(netG.parameters(),\n",
    "                         lr=config.learning_rate, betas=(config.beta1, 0.999))\n",
    "optimizer_d = optim.Adam(netD.parameters(),\n",
    "                         lr=config.learning_rate, betas=(config.beta1, 0.999))\n",
    "\n",
    "# criterion\n",
    "# gan_loss = nn.BCEWithLogitsLoss()\n",
    "gan_loss = nn.MSELoss()\n",
    "l1_loss = nn.L1Loss()"
   ],
   "execution_count": 13,
   "outputs": [
    {
     "name": "stdout",
     "output_type": "stream",
     "text": [
      "cuda\n"
     ]
    }
   ]
  },
  {
   "cell_type": "markdown",
   "metadata": {
    "id": "XwxJb7MVvh5P"
   },
   "source": [
    "### start"
   ]
  },
  {
   "cell_type": "code",
   "metadata": {
    "id": "Jg2EAdzRvSjd"
   },
   "source": [
    "def set_requires_grad(net, requires_grad=False):\n",
    "    for param in net.parameters():\n",
    "        param.requires_grad = requires_grad"
   ],
   "execution_count": null,
   "outputs": []
  },
  {
   "cell_type": "code",
   "metadata": {
    "colab": {
     "base_uri": "https://localhost:8080/"
    },
    "id": "p6vnUHYyvdnC",
    "executionInfo": {
     "status": "ok",
     "timestamp": 1626195420782,
     "user_tz": -480,
     "elapsed": 6628939,
     "user": {
      "displayName": "Jui-Te Huang",
      "photoUrl": "https://lh3.googleusercontent.com/a-/AOh14GioA6PIPFKbZb2-aw0ScD3obxPh0H9bkT1cyakMog=s64",
      "userId": "03810060886891291687"
     }
    },
    "outputId": "f642f3de-77e3-47af-80d5-d0a6a797bf4a"
   },
   "source": [
    "log_metrics = {\n",
    "    'loss_D_real': [],\n",
    "    'loss_D_fake': [],\n",
    "    'loss_D': [],\n",
    "    'loss_G_gan': [],\n",
    "    'loss_G_l1': [],\n",
    "    'loss_G': [],\n",
    "}\n",
    "\n",
    "step = 0\n",
    "t = trange(config.epoch)\n",
    "\n",
    "for epoch in t:\n",
    "    for l, r in train_loader:\n",
    "        b_size = l.size(0)\n",
    "\n",
    "        seq_padded, lens = rnn_utils.pad_packed_sequence(r, batch_first=False)\n",
    "        max_len = seq_padded.shape[0]\n",
    "        pad_mask = torch.arange(max_len)[None, :] < lens[:, None]\n",
    "\n",
    "        seq_padded = seq_padded.to(device)\n",
    "        pad_mask = ~pad_mask.to(device)\n",
    "\n",
    "        fake_y = netG(seq_padded, pad_mask)\n",
    "        # fake_y = torch.unsqueeze(fake_y, 1)\n",
    "\n",
    "        y = l.to(device)\n",
    "        # y = torch.unsqueeze(y, 1)\n",
    "\n",
    "        # patch size config.path_size\n",
    "        fake_label = Variable(torch.Tensor(\n",
    "            np.zeros((b_size))), requires_grad=False).to(device)\n",
    "        real_label = Variable(torch.Tensor(\n",
    "            np.ones((b_size))), requires_grad=False).to(device)\n",
    "\n",
    "        ########################### train D ############################\n",
    "\n",
    "        set_requires_grad(netD, True)\n",
    "        optimizer_d.zero_grad()\n",
    "\n",
    "        # fake\n",
    "        pred_fake = netD(seq_padded, pad_mask, fake_y.detach())\n",
    "        loss_D_fake = gan_loss(pred_fake, fake_label)\n",
    "\n",
    "        # real\n",
    "        pred_real = netD(seq_padded, pad_mask, y)\n",
    "        loss_D_real = gan_loss(pred_real, real_label)\n",
    "\n",
    "        # train\n",
    "        loss_D = (loss_D_real + loss_D_fake) * 0.5\n",
    "        loss_D.backward()\n",
    "        optimizer_d.step()\n",
    "\n",
    "        ########################### train G ############################\n",
    "\n",
    "        set_requires_grad(netD, False)\n",
    "        optimizer_g.zero_grad()\n",
    "\n",
    "        pred_fake = netD(seq_padded, pad_mask, fake_y)\n",
    "        loss_G_gan = gan_loss(pred_fake, real_label)\n",
    "        loss_G_l1 = l1_loss(fake_y, y) * config.lambda_l1\n",
    "        loss_G = loss_G_gan + loss_G_l1\n",
    "        loss_G.backward()\n",
    "        optimizer_g.step()\n",
    "\n",
    "        ########################### log ##################################\n",
    "\n",
    "        log_metrics['loss_D_real'].append(loss_D_real.item())\n",
    "        log_metrics['loss_D_fake'].append(loss_D_fake.item())\n",
    "        log_metrics['loss_D'].append(loss_D.item())\n",
    "        log_metrics['loss_G_gan'].append(loss_G_gan.item())\n",
    "        log_metrics['loss_G_l1'].append(loss_G_l1.item())\n",
    "        log_metrics['loss_G'].append(loss_G.item())\n",
    "\n",
    "        step += 1\n",
    "        t.set_description('step: %d' % step)"
   ],
   "execution_count": null,
   "outputs": [
    {
     "output_type": "stream",
     "text": [
      "step: 28358: 100%|██████████| 1/1 [1:50:28<00:00, 6628.64s/it]\n"
     ],
     "name": "stderr"
    }
   ]
  },
  {
   "cell_type": "markdown",
   "metadata": {
    "id": "OZwN2zbZzWr6"
   },
   "source": [
    "### logs\n",
    "training example, learning curve for reference\n",
    "\n",
    "the correct learning curve should look like\n",
    "\n",
    "https://wandb.ai/juite/radar-transformer/runs/2jhysrga?workspace=user-juite"
   ]
  },
  {
   "cell_type": "code",
   "metadata": {
    "colab": {
     "base_uri": "https://localhost:8080/",
     "height": 499
    },
    "id": "Q_gNfv6pwQyh",
    "executionInfo": {
     "status": "ok",
     "timestamp": 1626196615379,
     "user_tz": -480,
     "elapsed": 2386,
     "user": {
      "displayName": "Jui-Te Huang",
      "photoUrl": "https://lh3.googleusercontent.com/a-/AOh14GioA6PIPFKbZb2-aw0ScD3obxPh0H9bkT1cyakMog=s64",
      "userId": "03810060886891291687"
     }
    },
    "outputId": "ffde9f46-9475-4e19-c660-5ba9cb0cbfc6"
   },
   "source": [
    "fig = plt.figure(figsize=(16,8))\n",
    "indx = 1\n",
    "for k, v in log_metrics.items():\n",
    "  ax = plt.subplot(2,3,indx)\n",
    "  plt.title(k)\n",
    "  plt.plot(np.arange(len(v)), v)\n",
    "  indx+=1"
   ],
   "execution_count": null,
   "outputs": [
    {
     "output_type": "display_data",
     "data": {
      "image/png": "[encoded data removed]",
      "text/plain": [
       "<Figure size 1152x576 with 6 Axes>"
      ]
     },
     "metadata": {
      "tags": [],
      "needs_background": "light"
     }
    }
   ]
  },
  {
   "cell_type": "markdown",
   "metadata": {
    "id": "HHnFjFGz21K-"
   },
   "source": [
    "## 模型评估\n"
   ]
  },
  {
   "cell_type": "code",
   "metadata": {
    "colab": {
     "base_uri": "https://localhost:8080/"
    },
    "id": "jEOuZ51W2zHp",
    "executionInfo": {
     "status": "ok",
     "timestamp": 1626265969857,
     "user_tz": -480,
     "elapsed": 12214,
     "user": {
      "displayName": "Jui-Te Huang",
      "photoUrl": "https://lh3.googleusercontent.com/a-/AOh14GioA6PIPFKbZb2-aw0ScD3obxPh0H9bkT1cyakMog=s64",
      "userId": "03810060886891291687"
     }
    },
    "outputId": "877fac41-74f8-4419-9707-e6e280878e74"
   },
   "source": [
    "device = torch.device(\n",
    "    \"cuda\" if torch.cuda.is_available() else \"cpu\"\n",
    ")\n",
    "print(device)\n",
    "\n",
    "netG = RadarTransformer(\n",
    "    features=config.feature_dim,\n",
    "    embed_dim=config.embed_dim,\n",
    "    nhead=config.nhead_attention,\n",
    "    encoder_layers=config.encoder_layer,\n",
    "    decoder_layers=config.decoder_layer,\n",
    ").to(device)\n",
    "\n",
    "netG.load_state_dict(torch.load(\"../checkpoints/transformer/lunfee_transformer.pth\"))\n",
    "netG.eval()\n"
   ],
   "execution_count": 20,
   "outputs": [
    {
     "name": "stdout",
     "output_type": "stream",
     "text": [
      "cuda\n"
     ]
    },
    {
     "data": {
      "text/plain": "RadarTransformer(\n  (linear_projection): Linear(in_features=7, out_features=64, bias=True)\n  (transformer_encoder): TransformerEncoder(\n    (layers): ModuleList(\n      (0): TransformerEncoderLayer(\n        (self_attn): MultiheadAttention(\n          (out_proj): _LinearWithBias(in_features=64, out_features=64, bias=True)\n        )\n        (linear1): Linear(in_features=64, out_features=2048, bias=True)\n        (dropout): Dropout(p=0.1, inplace=False)\n        (linear2): Linear(in_features=2048, out_features=64, bias=True)\n        (norm1): LayerNorm((64,), eps=1e-05, elementwise_affine=True)\n        (norm2): LayerNorm((64,), eps=1e-05, elementwise_affine=True)\n        (dropout1): Dropout(p=0.1, inplace=False)\n        (dropout2): Dropout(p=0.1, inplace=False)\n      )\n      (1): TransformerEncoderLayer(\n        (self_attn): MultiheadAttention(\n          (out_proj): _LinearWithBias(in_features=64, out_features=64, bias=True)\n        )\n        (linear1): Linear(in_features=64, out_features=2048, bias=True)\n        (dropout): Dropout(p=0.1, inplace=False)\n        (linear2): Linear(in_features=2048, out_features=64, bias=True)\n        (norm1): LayerNorm((64,), eps=1e-05, elementwise_affine=True)\n        (norm2): LayerNorm((64,), eps=1e-05, elementwise_affine=True)\n        (dropout1): Dropout(p=0.1, inplace=False)\n        (dropout2): Dropout(p=0.1, inplace=False)\n      )\n      (2): TransformerEncoderLayer(\n        (self_attn): MultiheadAttention(\n          (out_proj): _LinearWithBias(in_features=64, out_features=64, bias=True)\n        )\n        (linear1): Linear(in_features=64, out_features=2048, bias=True)\n        (dropout): Dropout(p=0.1, inplace=False)\n        (linear2): Linear(in_features=2048, out_features=64, bias=True)\n        (norm1): LayerNorm((64,), eps=1e-05, elementwise_affine=True)\n        (norm2): LayerNorm((64,), eps=1e-05, elementwise_affine=True)\n        (dropout1): Dropout(p=0.1, inplace=False)\n        (dropout2): Dropout(p=0.1, inplace=False)\n      )\n      (3): TransformerEncoderLayer(\n        (self_attn): MultiheadAttention(\n          (out_proj): _LinearWithBias(in_features=64, out_features=64, bias=True)\n        )\n        (linear1): Linear(in_features=64, out_features=2048, bias=True)\n        (dropout): Dropout(p=0.1, inplace=False)\n        (linear2): Linear(in_features=2048, out_features=64, bias=True)\n        (norm1): LayerNorm((64,), eps=1e-05, elementwise_affine=True)\n        (norm2): LayerNorm((64,), eps=1e-05, elementwise_affine=True)\n        (dropout1): Dropout(p=0.1, inplace=False)\n        (dropout2): Dropout(p=0.1, inplace=False)\n      )\n      (4): TransformerEncoderLayer(\n        (self_attn): MultiheadAttention(\n          (out_proj): _LinearWithBias(in_features=64, out_features=64, bias=True)\n        )\n        (linear1): Linear(in_features=64, out_features=2048, bias=True)\n        (dropout): Dropout(p=0.1, inplace=False)\n        (linear2): Linear(in_features=2048, out_features=64, bias=True)\n        (norm1): LayerNorm((64,), eps=1e-05, elementwise_affine=True)\n        (norm2): LayerNorm((64,), eps=1e-05, elementwise_affine=True)\n        (dropout1): Dropout(p=0.1, inplace=False)\n        (dropout2): Dropout(p=0.1, inplace=False)\n      )\n      (5): TransformerEncoderLayer(\n        (self_attn): MultiheadAttention(\n          (out_proj): _LinearWithBias(in_features=64, out_features=64, bias=True)\n        )\n        (linear1): Linear(in_features=64, out_features=2048, bias=True)\n        (dropout): Dropout(p=0.1, inplace=False)\n        (linear2): Linear(in_features=2048, out_features=64, bias=True)\n        (norm1): LayerNorm((64,), eps=1e-05, elementwise_affine=True)\n        (norm2): LayerNorm((64,), eps=1e-05, elementwise_affine=True)\n        (dropout1): Dropout(p=0.1, inplace=False)\n        (dropout2): Dropout(p=0.1, inplace=False)\n      )\n    )\n  )\n  (transformer_decoder): TransformerDecoder(\n    (layers): ModuleList(\n      (0): TransformerDecoderLayer(\n        (self_attn): MultiheadAttention(\n          (out_proj): _LinearWithBias(in_features=64, out_features=64, bias=True)\n        )\n        (multihead_attn): MultiheadAttention(\n          (out_proj): _LinearWithBias(in_features=64, out_features=64, bias=True)\n        )\n        (linear1): Linear(in_features=64, out_features=2048, bias=True)\n        (dropout): Dropout(p=0.1, inplace=False)\n        (linear2): Linear(in_features=2048, out_features=64, bias=True)\n        (norm1): LayerNorm((64,), eps=1e-05, elementwise_affine=True)\n        (norm2): LayerNorm((64,), eps=1e-05, elementwise_affine=True)\n        (norm3): LayerNorm((64,), eps=1e-05, elementwise_affine=True)\n        (dropout1): Dropout(p=0.1, inplace=False)\n        (dropout2): Dropout(p=0.1, inplace=False)\n        (dropout3): Dropout(p=0.1, inplace=False)\n      )\n      (1): TransformerDecoderLayer(\n        (self_attn): MultiheadAttention(\n          (out_proj): _LinearWithBias(in_features=64, out_features=64, bias=True)\n        )\n        (multihead_attn): MultiheadAttention(\n          (out_proj): _LinearWithBias(in_features=64, out_features=64, bias=True)\n        )\n        (linear1): Linear(in_features=64, out_features=2048, bias=True)\n        (dropout): Dropout(p=0.1, inplace=False)\n        (linear2): Linear(in_features=2048, out_features=64, bias=True)\n        (norm1): LayerNorm((64,), eps=1e-05, elementwise_affine=True)\n        (norm2): LayerNorm((64,), eps=1e-05, elementwise_affine=True)\n        (norm3): LayerNorm((64,), eps=1e-05, elementwise_affine=True)\n        (dropout1): Dropout(p=0.1, inplace=False)\n        (dropout2): Dropout(p=0.1, inplace=False)\n        (dropout3): Dropout(p=0.1, inplace=False)\n      )\n      (2): TransformerDecoderLayer(\n        (self_attn): MultiheadAttention(\n          (out_proj): _LinearWithBias(in_features=64, out_features=64, bias=True)\n        )\n        (multihead_attn): MultiheadAttention(\n          (out_proj): _LinearWithBias(in_features=64, out_features=64, bias=True)\n        )\n        (linear1): Linear(in_features=64, out_features=2048, bias=True)\n        (dropout): Dropout(p=0.1, inplace=False)\n        (linear2): Linear(in_features=2048, out_features=64, bias=True)\n        (norm1): LayerNorm((64,), eps=1e-05, elementwise_affine=True)\n        (norm2): LayerNorm((64,), eps=1e-05, elementwise_affine=True)\n        (norm3): LayerNorm((64,), eps=1e-05, elementwise_affine=True)\n        (dropout1): Dropout(p=0.1, inplace=False)\n        (dropout2): Dropout(p=0.1, inplace=False)\n        (dropout3): Dropout(p=0.1, inplace=False)\n      )\n      (3): TransformerDecoderLayer(\n        (self_attn): MultiheadAttention(\n          (out_proj): _LinearWithBias(in_features=64, out_features=64, bias=True)\n        )\n        (multihead_attn): MultiheadAttention(\n          (out_proj): _LinearWithBias(in_features=64, out_features=64, bias=True)\n        )\n        (linear1): Linear(in_features=64, out_features=2048, bias=True)\n        (dropout): Dropout(p=0.1, inplace=False)\n        (linear2): Linear(in_features=2048, out_features=64, bias=True)\n        (norm1): LayerNorm((64,), eps=1e-05, elementwise_affine=True)\n        (norm2): LayerNorm((64,), eps=1e-05, elementwise_affine=True)\n        (norm3): LayerNorm((64,), eps=1e-05, elementwise_affine=True)\n        (dropout1): Dropout(p=0.1, inplace=False)\n        (dropout2): Dropout(p=0.1, inplace=False)\n        (dropout3): Dropout(p=0.1, inplace=False)\n      )\n      (4): TransformerDecoderLayer(\n        (self_attn): MultiheadAttention(\n          (out_proj): _LinearWithBias(in_features=64, out_features=64, bias=True)\n        )\n        (multihead_attn): MultiheadAttention(\n          (out_proj): _LinearWithBias(in_features=64, out_features=64, bias=True)\n        )\n        (linear1): Linear(in_features=64, out_features=2048, bias=True)\n        (dropout): Dropout(p=0.1, inplace=False)\n        (linear2): Linear(in_features=2048, out_features=64, bias=True)\n        (norm1): LayerNorm((64,), eps=1e-05, elementwise_affine=True)\n        (norm2): LayerNorm((64,), eps=1e-05, elementwise_affine=True)\n        (norm3): LayerNorm((64,), eps=1e-05, elementwise_affine=True)\n        (dropout1): Dropout(p=0.1, inplace=False)\n        (dropout2): Dropout(p=0.1, inplace=False)\n        (dropout3): Dropout(p=0.1, inplace=False)\n      )\n      (5): TransformerDecoderLayer(\n        (self_attn): MultiheadAttention(\n          (out_proj): _LinearWithBias(in_features=64, out_features=64, bias=True)\n        )\n        (multihead_attn): MultiheadAttention(\n          (out_proj): _LinearWithBias(in_features=64, out_features=64, bias=True)\n        )\n        (linear1): Linear(in_features=64, out_features=2048, bias=True)\n        (dropout): Dropout(p=0.1, inplace=False)\n        (linear2): Linear(in_features=2048, out_features=64, bias=True)\n        (norm1): LayerNorm((64,), eps=1e-05, elementwise_affine=True)\n        (norm2): LayerNorm((64,), eps=1e-05, elementwise_affine=True)\n        (norm3): LayerNorm((64,), eps=1e-05, elementwise_affine=True)\n        (dropout1): Dropout(p=0.1, inplace=False)\n        (dropout2): Dropout(p=0.1, inplace=False)\n        (dropout3): Dropout(p=0.1, inplace=False)\n      )\n    )\n  )\n  (linear_to_range): Linear(in_features=64, out_features=1, bias=True)\n)"
     },
     "execution_count": 20,
     "metadata": {},
     "output_type": "execute_result"
    }
   ]
  },
  {
   "cell_type": "markdown",
   "metadata": {
    "id": "QYOfsAgIzbuw"
   },
   "source": [
    "## evaluation"
   ]
  },
  {
   "cell_type": "code",
   "metadata": {
    "colab": {
     "base_uri": "https://localhost:8080/"
    },
    "id": "v7vLg5-mzZAV",
    "executionInfo": {
     "status": "ok",
     "timestamp": 1626266295568,
     "user_tz": -480,
     "elapsed": 325720,
     "user": {
      "displayName": "Jui-Te Huang",
      "photoUrl": "https://lh3.googleusercontent.com/a-/AOh14GioA6PIPFKbZb2-aw0ScD3obxPh0H9bkT1cyakMog=s64",
      "userId": "03810060886891291687"
     }
    },
    "outputId": "5420f22b-77e7-4565-f80f-6a8a307f1427"
   },
   "source": [
    "netG.eval()\n",
    "\n",
    "l1_loss = nn.L1Loss()\n",
    "\n",
    "scenes = ['corridor', 'parking']\n",
    "\n",
    "for scene in scenes:\n",
    "    dataset = RadarDataset(scene=scene)\n",
    "\n",
    "    loader = DataLoader(\n",
    "        dataset=dataset,\n",
    "        batch_size=config.batch_size,\n",
    "        shuffle=False,\n",
    "        num_workers=2,\n",
    "        collate_fn=collate_fn,\n",
    "    )\n",
    "\n",
    "    L1 = []\n",
    "    for l, r in loader:\n",
    "        b_size = l.size(0)\n",
    "\n",
    "        seq_padded, lens = rnn_utils.pad_packed_sequence(r, batch_first=False)\n",
    "        max_len = seq_padded.shape[0]\n",
    "        pad_mask = torch.arange(max_len)[None, :] < lens[:, None]\n",
    "\n",
    "        seq_padded = seq_padded.to(device)\n",
    "        pad_mask = ~pad_mask.to(device)\n",
    "\n",
    "        fake_y = netG(seq_padded, pad_mask).detach().cpu()\n",
    "\n",
    "        fake_y = torch.clip(fake_y, 0, 5)\n",
    "        l = torch.clip(l, 0, 5)\n",
    "        loss_G_l1 = l1_loss(fake_y, l)\n",
    "        L1.append(loss_G_l1)\n",
    "\n",
    "    print('scene %s l1 loss: %.4f\\n' % (scene, np.mean(L1)))\n",
    "\n",
    "\n",
    "# cgan transformer accuracy in 100 meter\n",
    "# scene corridor l1 loss: 0.6715\n",
    "# scene parking l1 loss: 1.8636\n",
    "\n",
    "# cgan transformer accuracy in 5 meter\n",
    "# scene corridor l1 loss: 0.1271\n",
    "# scene parking l1 loss: 0.1125\n"
   ],
   "execution_count": 15,
   "outputs": [
    {
     "name": "stdout",
     "output_type": "stream",
     "text": [
      "scene:  corridor\n",
      "dataset loaded, length:74246\n"
     ]
    },
    {
     "ename": "KeyboardInterrupt",
     "evalue": "",
     "output_type": "error",
     "traceback": [
      "\u001B[0;31m---------------------------------------------------------------------------\u001B[0m",
      "\u001B[0;31mKeyboardInterrupt\u001B[0m                         Traceback (most recent call last)",
      "\u001B[0;32m<ipython-input-15-0fdb558695f9>\u001B[0m in \u001B[0;36m<module>\u001B[0;34m\u001B[0m\n\u001B[1;32m     27\u001B[0m         \u001B[0mpad_mask\u001B[0m \u001B[0;34m=\u001B[0m \u001B[0;34m~\u001B[0m\u001B[0mpad_mask\u001B[0m\u001B[0;34m.\u001B[0m\u001B[0mto\u001B[0m\u001B[0;34m(\u001B[0m\u001B[0mdevice\u001B[0m\u001B[0;34m)\u001B[0m\u001B[0;34m\u001B[0m\u001B[0;34m\u001B[0m\u001B[0m\n\u001B[1;32m     28\u001B[0m \u001B[0;34m\u001B[0m\u001B[0m\n\u001B[0;32m---> 29\u001B[0;31m         \u001B[0mfake_y\u001B[0m \u001B[0;34m=\u001B[0m \u001B[0mnetG\u001B[0m\u001B[0;34m(\u001B[0m\u001B[0mseq_padded\u001B[0m\u001B[0;34m,\u001B[0m \u001B[0mpad_mask\u001B[0m\u001B[0;34m)\u001B[0m\u001B[0;34m.\u001B[0m\u001B[0mdetach\u001B[0m\u001B[0;34m(\u001B[0m\u001B[0;34m)\u001B[0m\u001B[0;34m.\u001B[0m\u001B[0mcpu\u001B[0m\u001B[0;34m(\u001B[0m\u001B[0;34m)\u001B[0m\u001B[0;34m\u001B[0m\u001B[0;34m\u001B[0m\u001B[0m\n\u001B[0m\u001B[1;32m     30\u001B[0m \u001B[0;34m\u001B[0m\u001B[0m\n\u001B[1;32m     31\u001B[0m         \u001B[0mfake_y\u001B[0m \u001B[0;34m=\u001B[0m \u001B[0mtorch\u001B[0m\u001B[0;34m.\u001B[0m\u001B[0mclip\u001B[0m\u001B[0;34m(\u001B[0m\u001B[0mfake_y\u001B[0m\u001B[0;34m,\u001B[0m \u001B[0;36m0\u001B[0m\u001B[0;34m,\u001B[0m \u001B[0;36m5\u001B[0m\u001B[0;34m)\u001B[0m\u001B[0;34m\u001B[0m\u001B[0;34m\u001B[0m\u001B[0m\n",
      "\u001B[0;32m~/anaconda3/envs/tc/lib/python3.6/site-packages/torch/nn/modules/module.py\u001B[0m in \u001B[0;36m_call_impl\u001B[0;34m(self, *input, **kwargs)\u001B[0m\n\u001B[1;32m    725\u001B[0m             \u001B[0mresult\u001B[0m \u001B[0;34m=\u001B[0m \u001B[0mself\u001B[0m\u001B[0;34m.\u001B[0m\u001B[0m_slow_forward\u001B[0m\u001B[0;34m(\u001B[0m\u001B[0;34m*\u001B[0m\u001B[0minput\u001B[0m\u001B[0;34m,\u001B[0m \u001B[0;34m**\u001B[0m\u001B[0mkwargs\u001B[0m\u001B[0;34m)\u001B[0m\u001B[0;34m\u001B[0m\u001B[0;34m\u001B[0m\u001B[0m\n\u001B[1;32m    726\u001B[0m         \u001B[0;32melse\u001B[0m\u001B[0;34m:\u001B[0m\u001B[0;34m\u001B[0m\u001B[0;34m\u001B[0m\u001B[0m\n\u001B[0;32m--> 727\u001B[0;31m             \u001B[0mresult\u001B[0m \u001B[0;34m=\u001B[0m \u001B[0mself\u001B[0m\u001B[0;34m.\u001B[0m\u001B[0mforward\u001B[0m\u001B[0;34m(\u001B[0m\u001B[0;34m*\u001B[0m\u001B[0minput\u001B[0m\u001B[0;34m,\u001B[0m \u001B[0;34m**\u001B[0m\u001B[0mkwargs\u001B[0m\u001B[0;34m)\u001B[0m\u001B[0;34m\u001B[0m\u001B[0;34m\u001B[0m\u001B[0m\n\u001B[0m\u001B[1;32m    728\u001B[0m         for hook in itertools.chain(\n\u001B[1;32m    729\u001B[0m                 \u001B[0m_global_forward_hooks\u001B[0m\u001B[0;34m.\u001B[0m\u001B[0mvalues\u001B[0m\u001B[0;34m(\u001B[0m\u001B[0;34m)\u001B[0m\u001B[0;34m,\u001B[0m\u001B[0;34m\u001B[0m\u001B[0;34m\u001B[0m\u001B[0m\n",
      "\u001B[0;32m<ipython-input-11-7f33f76f93d0>\u001B[0m in \u001B[0;36mforward\u001B[0;34m(self, x, pad_mask, attention_map)\u001B[0m\n\u001B[1;32m     61\u001B[0m             \u001B[0mtgt\u001B[0m\u001B[0;34m=\u001B[0m\u001B[0mqur\u001B[0m\u001B[0;34m,\u001B[0m\u001B[0;34m\u001B[0m\u001B[0;34m\u001B[0m\u001B[0m\n\u001B[1;32m     62\u001B[0m             \u001B[0mmemory\u001B[0m\u001B[0;34m=\u001B[0m\u001B[0mx\u001B[0m\u001B[0;34m,\u001B[0m\u001B[0;34m\u001B[0m\u001B[0;34m\u001B[0m\u001B[0m\n\u001B[0;32m---> 63\u001B[0;31m             \u001B[0mmemory_key_padding_mask\u001B[0m\u001B[0;34m=\u001B[0m\u001B[0mpad_mask\u001B[0m\u001B[0;34m,\u001B[0m\u001B[0;34m\u001B[0m\u001B[0;34m\u001B[0m\u001B[0m\n\u001B[0m\u001B[1;32m     64\u001B[0m         )\n\u001B[1;32m     65\u001B[0m \u001B[0;34m\u001B[0m\u001B[0m\n",
      "\u001B[0;32m~/anaconda3/envs/tc/lib/python3.6/site-packages/torch/nn/modules/module.py\u001B[0m in \u001B[0;36m_call_impl\u001B[0;34m(self, *input, **kwargs)\u001B[0m\n\u001B[1;32m    725\u001B[0m             \u001B[0mresult\u001B[0m \u001B[0;34m=\u001B[0m \u001B[0mself\u001B[0m\u001B[0;34m.\u001B[0m\u001B[0m_slow_forward\u001B[0m\u001B[0;34m(\u001B[0m\u001B[0;34m*\u001B[0m\u001B[0minput\u001B[0m\u001B[0;34m,\u001B[0m \u001B[0;34m**\u001B[0m\u001B[0mkwargs\u001B[0m\u001B[0;34m)\u001B[0m\u001B[0;34m\u001B[0m\u001B[0;34m\u001B[0m\u001B[0m\n\u001B[1;32m    726\u001B[0m         \u001B[0;32melse\u001B[0m\u001B[0;34m:\u001B[0m\u001B[0;34m\u001B[0m\u001B[0;34m\u001B[0m\u001B[0m\n\u001B[0;32m--> 727\u001B[0;31m             \u001B[0mresult\u001B[0m \u001B[0;34m=\u001B[0m \u001B[0mself\u001B[0m\u001B[0;34m.\u001B[0m\u001B[0mforward\u001B[0m\u001B[0;34m(\u001B[0m\u001B[0;34m*\u001B[0m\u001B[0minput\u001B[0m\u001B[0;34m,\u001B[0m \u001B[0;34m**\u001B[0m\u001B[0mkwargs\u001B[0m\u001B[0;34m)\u001B[0m\u001B[0;34m\u001B[0m\u001B[0;34m\u001B[0m\u001B[0m\n\u001B[0m\u001B[1;32m    728\u001B[0m         for hook in itertools.chain(\n\u001B[1;32m    729\u001B[0m                 \u001B[0m_global_forward_hooks\u001B[0m\u001B[0;34m.\u001B[0m\u001B[0mvalues\u001B[0m\u001B[0;34m(\u001B[0m\u001B[0;34m)\u001B[0m\u001B[0;34m,\u001B[0m\u001B[0;34m\u001B[0m\u001B[0;34m\u001B[0m\u001B[0m\n",
      "\u001B[0;32m<ipython-input-10-a05ed666309e>\u001B[0m in \u001B[0;36mforward\u001B[0;34m(self, tgt, memory, tgt_mask, memory_mask, tgt_key_padding_mask, memory_key_padding_mask)\u001B[0m\n\u001B[1;32m     95\u001B[0m                                   \u001B[0mmemory_mask\u001B[0m\u001B[0;34m=\u001B[0m\u001B[0mmemory_mask\u001B[0m\u001B[0;34m,\u001B[0m\u001B[0;34m\u001B[0m\u001B[0;34m\u001B[0m\u001B[0m\n\u001B[1;32m     96\u001B[0m                                   \u001B[0mtgt_key_padding_mask\u001B[0m\u001B[0;34m=\u001B[0m\u001B[0mtgt_key_padding_mask\u001B[0m\u001B[0;34m,\u001B[0m\u001B[0;34m\u001B[0m\u001B[0;34m\u001B[0m\u001B[0m\n\u001B[0;32m---> 97\u001B[0;31m                                   memory_key_padding_mask=memory_key_padding_mask)\n\u001B[0m\u001B[1;32m     98\u001B[0m \u001B[0;34m\u001B[0m\u001B[0m\n\u001B[1;32m     99\u001B[0m             \u001B[0matt_map\u001B[0m \u001B[0;34m=\u001B[0m \u001B[0mtorch\u001B[0m\u001B[0;34m.\u001B[0m\u001B[0munsqueeze\u001B[0m\u001B[0;34m(\u001B[0m\u001B[0matt_map\u001B[0m\u001B[0;34m,\u001B[0m \u001B[0mdim\u001B[0m\u001B[0;34m=\u001B[0m\u001B[0;36m1\u001B[0m\u001B[0;34m)\u001B[0m\u001B[0;34m\u001B[0m\u001B[0;34m\u001B[0m\u001B[0m\n",
      "\u001B[0;32m~/anaconda3/envs/tc/lib/python3.6/site-packages/torch/nn/modules/module.py\u001B[0m in \u001B[0;36m_call_impl\u001B[0;34m(self, *input, **kwargs)\u001B[0m\n\u001B[1;32m    725\u001B[0m             \u001B[0mresult\u001B[0m \u001B[0;34m=\u001B[0m \u001B[0mself\u001B[0m\u001B[0;34m.\u001B[0m\u001B[0m_slow_forward\u001B[0m\u001B[0;34m(\u001B[0m\u001B[0;34m*\u001B[0m\u001B[0minput\u001B[0m\u001B[0;34m,\u001B[0m \u001B[0;34m**\u001B[0m\u001B[0mkwargs\u001B[0m\u001B[0;34m)\u001B[0m\u001B[0;34m\u001B[0m\u001B[0;34m\u001B[0m\u001B[0m\n\u001B[1;32m    726\u001B[0m         \u001B[0;32melse\u001B[0m\u001B[0;34m:\u001B[0m\u001B[0;34m\u001B[0m\u001B[0;34m\u001B[0m\u001B[0m\n\u001B[0;32m--> 727\u001B[0;31m             \u001B[0mresult\u001B[0m \u001B[0;34m=\u001B[0m \u001B[0mself\u001B[0m\u001B[0;34m.\u001B[0m\u001B[0mforward\u001B[0m\u001B[0;34m(\u001B[0m\u001B[0;34m*\u001B[0m\u001B[0minput\u001B[0m\u001B[0;34m,\u001B[0m \u001B[0;34m**\u001B[0m\u001B[0mkwargs\u001B[0m\u001B[0;34m)\u001B[0m\u001B[0;34m\u001B[0m\u001B[0;34m\u001B[0m\u001B[0m\n\u001B[0m\u001B[1;32m    728\u001B[0m         for hook in itertools.chain(\n\u001B[1;32m    729\u001B[0m                 \u001B[0m_global_forward_hooks\u001B[0m\u001B[0;34m.\u001B[0m\u001B[0mvalues\u001B[0m\u001B[0;34m(\u001B[0m\u001B[0;34m)\u001B[0m\u001B[0;34m,\u001B[0m\u001B[0;34m\u001B[0m\u001B[0;34m\u001B[0m\u001B[0m\n",
      "\u001B[0;32m<ipython-input-10-a05ed666309e>\u001B[0m in \u001B[0;36mforward\u001B[0;34m(self, tgt, memory, tgt_mask, memory_mask, tgt_key_padding_mask, memory_key_padding_mask)\u001B[0m\n\u001B[1;32m    225\u001B[0m         \"\"\"\n\u001B[1;32m    226\u001B[0m         tgt2 = self.self_attn(tgt, tgt, tgt, attn_mask=tgt_mask,\n\u001B[0;32m--> 227\u001B[0;31m                                              key_padding_mask=tgt_key_padding_mask)[0]\n\u001B[0m\u001B[1;32m    228\u001B[0m         \u001B[0mtgt\u001B[0m \u001B[0;34m=\u001B[0m \u001B[0mtgt\u001B[0m \u001B[0;34m+\u001B[0m \u001B[0mself\u001B[0m\u001B[0;34m.\u001B[0m\u001B[0mdropout1\u001B[0m\u001B[0;34m(\u001B[0m\u001B[0mtgt2\u001B[0m\u001B[0;34m)\u001B[0m\u001B[0;34m\u001B[0m\u001B[0;34m\u001B[0m\u001B[0m\n\u001B[1;32m    229\u001B[0m         \u001B[0mtgt\u001B[0m \u001B[0;34m=\u001B[0m \u001B[0mself\u001B[0m\u001B[0;34m.\u001B[0m\u001B[0mnorm1\u001B[0m\u001B[0;34m(\u001B[0m\u001B[0mtgt\u001B[0m\u001B[0;34m)\u001B[0m\u001B[0;34m\u001B[0m\u001B[0;34m\u001B[0m\u001B[0m\n",
      "\u001B[0;32m~/anaconda3/envs/tc/lib/python3.6/site-packages/torch/nn/modules/module.py\u001B[0m in \u001B[0;36m_call_impl\u001B[0;34m(self, *input, **kwargs)\u001B[0m\n\u001B[1;32m    725\u001B[0m             \u001B[0mresult\u001B[0m \u001B[0;34m=\u001B[0m \u001B[0mself\u001B[0m\u001B[0;34m.\u001B[0m\u001B[0m_slow_forward\u001B[0m\u001B[0;34m(\u001B[0m\u001B[0;34m*\u001B[0m\u001B[0minput\u001B[0m\u001B[0;34m,\u001B[0m \u001B[0;34m**\u001B[0m\u001B[0mkwargs\u001B[0m\u001B[0;34m)\u001B[0m\u001B[0;34m\u001B[0m\u001B[0;34m\u001B[0m\u001B[0m\n\u001B[1;32m    726\u001B[0m         \u001B[0;32melse\u001B[0m\u001B[0;34m:\u001B[0m\u001B[0;34m\u001B[0m\u001B[0;34m\u001B[0m\u001B[0m\n\u001B[0;32m--> 727\u001B[0;31m             \u001B[0mresult\u001B[0m \u001B[0;34m=\u001B[0m \u001B[0mself\u001B[0m\u001B[0;34m.\u001B[0m\u001B[0mforward\u001B[0m\u001B[0;34m(\u001B[0m\u001B[0;34m*\u001B[0m\u001B[0minput\u001B[0m\u001B[0;34m,\u001B[0m \u001B[0;34m**\u001B[0m\u001B[0mkwargs\u001B[0m\u001B[0;34m)\u001B[0m\u001B[0;34m\u001B[0m\u001B[0;34m\u001B[0m\u001B[0m\n\u001B[0m\u001B[1;32m    728\u001B[0m         for hook in itertools.chain(\n\u001B[1;32m    729\u001B[0m                 \u001B[0m_global_forward_hooks\u001B[0m\u001B[0;34m.\u001B[0m\u001B[0mvalues\u001B[0m\u001B[0;34m(\u001B[0m\u001B[0;34m)\u001B[0m\u001B[0;34m,\u001B[0m\u001B[0;34m\u001B[0m\u001B[0;34m\u001B[0m\u001B[0m\n",
      "\u001B[0;32m~/anaconda3/envs/tc/lib/python3.6/site-packages/torch/nn/modules/activation.py\u001B[0m in \u001B[0;36mforward\u001B[0;34m(self, query, key, value, key_padding_mask, need_weights, attn_mask)\u001B[0m\n\u001B[1;32m    983\u001B[0m                 \u001B[0mtraining\u001B[0m\u001B[0;34m=\u001B[0m\u001B[0mself\u001B[0m\u001B[0;34m.\u001B[0m\u001B[0mtraining\u001B[0m\u001B[0;34m,\u001B[0m\u001B[0;34m\u001B[0m\u001B[0;34m\u001B[0m\u001B[0m\n\u001B[1;32m    984\u001B[0m                 \u001B[0mkey_padding_mask\u001B[0m\u001B[0;34m=\u001B[0m\u001B[0mkey_padding_mask\u001B[0m\u001B[0;34m,\u001B[0m \u001B[0mneed_weights\u001B[0m\u001B[0;34m=\u001B[0m\u001B[0mneed_weights\u001B[0m\u001B[0;34m,\u001B[0m\u001B[0;34m\u001B[0m\u001B[0;34m\u001B[0m\u001B[0m\n\u001B[0;32m--> 985\u001B[0;31m                 attn_mask=attn_mask)\n\u001B[0m\u001B[1;32m    986\u001B[0m \u001B[0;34m\u001B[0m\u001B[0m\n\u001B[1;32m    987\u001B[0m \u001B[0;34m\u001B[0m\u001B[0m\n",
      "\u001B[0;32m~/anaconda3/envs/tc/lib/python3.6/site-packages/torch/nn/functional.py\u001B[0m in \u001B[0;36mmulti_head_attention_forward\u001B[0;34m(query, key, value, embed_dim_to_check, num_heads, in_proj_weight, in_proj_bias, bias_k, bias_v, add_zero_attn, dropout_p, out_proj_weight, out_proj_bias, training, key_padding_mask, need_weights, attn_mask, use_separate_proj_weight, q_proj_weight, k_proj_weight, v_proj_weight, static_k, static_v)\u001B[0m\n\u001B[1;32m   4317\u001B[0m     \u001B[0;32massert\u001B[0m \u001B[0mlist\u001B[0m\u001B[0;34m(\u001B[0m\u001B[0mattn_output\u001B[0m\u001B[0;34m.\u001B[0m\u001B[0msize\u001B[0m\u001B[0;34m(\u001B[0m\u001B[0;34m)\u001B[0m\u001B[0;34m)\u001B[0m \u001B[0;34m==\u001B[0m \u001B[0;34m[\u001B[0m\u001B[0mbsz\u001B[0m \u001B[0;34m*\u001B[0m \u001B[0mnum_heads\u001B[0m\u001B[0;34m,\u001B[0m \u001B[0mtgt_len\u001B[0m\u001B[0;34m,\u001B[0m \u001B[0mhead_dim\u001B[0m\u001B[0;34m]\u001B[0m\u001B[0;34m\u001B[0m\u001B[0;34m\u001B[0m\u001B[0m\n\u001B[1;32m   4318\u001B[0m     \u001B[0mattn_output\u001B[0m \u001B[0;34m=\u001B[0m \u001B[0mattn_output\u001B[0m\u001B[0;34m.\u001B[0m\u001B[0mtranspose\u001B[0m\u001B[0;34m(\u001B[0m\u001B[0;36m0\u001B[0m\u001B[0;34m,\u001B[0m \u001B[0;36m1\u001B[0m\u001B[0;34m)\u001B[0m\u001B[0;34m.\u001B[0m\u001B[0mcontiguous\u001B[0m\u001B[0;34m(\u001B[0m\u001B[0;34m)\u001B[0m\u001B[0;34m.\u001B[0m\u001B[0mview\u001B[0m\u001B[0;34m(\u001B[0m\u001B[0mtgt_len\u001B[0m\u001B[0;34m,\u001B[0m \u001B[0mbsz\u001B[0m\u001B[0;34m,\u001B[0m \u001B[0membed_dim\u001B[0m\u001B[0;34m)\u001B[0m\u001B[0;34m\u001B[0m\u001B[0;34m\u001B[0m\u001B[0m\n\u001B[0;32m-> 4319\u001B[0;31m     \u001B[0mattn_output\u001B[0m \u001B[0;34m=\u001B[0m \u001B[0mlinear\u001B[0m\u001B[0;34m(\u001B[0m\u001B[0mattn_output\u001B[0m\u001B[0;34m,\u001B[0m \u001B[0mout_proj_weight\u001B[0m\u001B[0;34m,\u001B[0m \u001B[0mout_proj_bias\u001B[0m\u001B[0;34m)\u001B[0m\u001B[0;34m\u001B[0m\u001B[0;34m\u001B[0m\u001B[0m\n\u001B[0m\u001B[1;32m   4320\u001B[0m \u001B[0;34m\u001B[0m\u001B[0m\n\u001B[1;32m   4321\u001B[0m     \u001B[0;32mif\u001B[0m \u001B[0mneed_weights\u001B[0m\u001B[0;34m:\u001B[0m\u001B[0;34m\u001B[0m\u001B[0;34m\u001B[0m\u001B[0m\n",
      "\u001B[0;32m~/anaconda3/envs/tc/lib/python3.6/site-packages/torch/nn/functional.py\u001B[0m in \u001B[0;36mlinear\u001B[0;34m(input, weight, bias)\u001B[0m\n\u001B[1;32m   1690\u001B[0m         \u001B[0mret\u001B[0m \u001B[0;34m=\u001B[0m \u001B[0mtorch\u001B[0m\u001B[0;34m.\u001B[0m\u001B[0maddmm\u001B[0m\u001B[0;34m(\u001B[0m\u001B[0mbias\u001B[0m\u001B[0;34m,\u001B[0m \u001B[0minput\u001B[0m\u001B[0;34m,\u001B[0m \u001B[0mweight\u001B[0m\u001B[0;34m.\u001B[0m\u001B[0mt\u001B[0m\u001B[0;34m(\u001B[0m\u001B[0;34m)\u001B[0m\u001B[0;34m)\u001B[0m\u001B[0;34m\u001B[0m\u001B[0;34m\u001B[0m\u001B[0m\n\u001B[1;32m   1691\u001B[0m     \u001B[0;32melse\u001B[0m\u001B[0;34m:\u001B[0m\u001B[0;34m\u001B[0m\u001B[0;34m\u001B[0m\u001B[0m\n\u001B[0;32m-> 1692\u001B[0;31m         \u001B[0moutput\u001B[0m \u001B[0;34m=\u001B[0m \u001B[0minput\u001B[0m\u001B[0;34m.\u001B[0m\u001B[0mmatmul\u001B[0m\u001B[0;34m(\u001B[0m\u001B[0mweight\u001B[0m\u001B[0;34m.\u001B[0m\u001B[0mt\u001B[0m\u001B[0;34m(\u001B[0m\u001B[0;34m)\u001B[0m\u001B[0;34m)\u001B[0m\u001B[0;34m\u001B[0m\u001B[0;34m\u001B[0m\u001B[0m\n\u001B[0m\u001B[1;32m   1693\u001B[0m         \u001B[0;32mif\u001B[0m \u001B[0mbias\u001B[0m \u001B[0;32mis\u001B[0m \u001B[0;32mnot\u001B[0m \u001B[0;32mNone\u001B[0m\u001B[0;34m:\u001B[0m\u001B[0;34m\u001B[0m\u001B[0;34m\u001B[0m\u001B[0m\n\u001B[1;32m   1694\u001B[0m             \u001B[0moutput\u001B[0m \u001B[0;34m+=\u001B[0m \u001B[0mbias\u001B[0m\u001B[0;34m\u001B[0m\u001B[0;34m\u001B[0m\u001B[0m\n",
      "\u001B[0;31mKeyboardInterrupt\u001B[0m: "
     ]
    }
   ]
  },
  {
   "cell_type": "markdown",
   "metadata": {
    "id": "kmQKEUuNQZ_b"
   },
   "source": [
    "## visualization"
   ]
  },
  {
   "cell_type": "code",
   "metadata": {
    "id": "O_yX4zEuEIET"
   },
   "source": [
    "def laser_visual(lasers=[], names=[], range_limit=6):\n",
    "  fig = plt.figure(figsize=(8, 8))\n",
    "  colors=['#3483EB','#FFA500','#15B01D']\n",
    "  for i, l in enumerate(lasers):\n",
    "    angle = 120\n",
    "    xp = []\n",
    "    yp = []\n",
    "    for r in l:\n",
    "        if r <= range_limit:\n",
    "            yp.append(r * math.cos(math.radians(angle)))\n",
    "            xp.append(r * math.sin(math.radians(angle)))\n",
    "        angle -= 1\n",
    "    plt.xlim(-6, 6)\n",
    "    plt.ylim(-6, 6)\n",
    "    plt.plot(xp, yp, '.', color=colors[i], label=names[i])\n",
    "  plt.legend(loc='lower right', fontsize=15)"
   ],
   "execution_count": 21,
   "outputs": []
  },
  {
   "cell_type": "code",
   "metadata": {
    "id": "lxyM1HiaDC31"
   },
   "source": [
    "def filter(radar):\n",
    "    min_h = 0.15\n",
    "    max_h = 2\n",
    "    pcd = o3d.geometry.PointCloud()\n",
    "    pt = radar[:, 3:6]\n",
    "    pcd.points = o3d.utility.Vector3dVector(pt)\n",
    "    cl, ind = pcd.remove_radius_outlier(nb_points=3, radius=1.2)\n",
    "    radar = radar[ind]\n",
    "    radar = radar[np.where(radar[:, 5] > min_h)]\n",
    "    radar = radar[np.where(radar[:, 5] < max_h)]\n",
    "    return radar\n"
   ],
   "execution_count": 22,
   "outputs": []
  },
  {
   "cell_type": "code",
   "metadata": {
    "id": "h0-TYnrHBVYR"
   },
   "source": [
    "def pc_to_laser(pc):\n",
    "    max_dis = 5\n",
    "    min_angle = math.radians(-120)\n",
    "    max_angle = math.radians(120)\n",
    "    angle_incre = math.radians(0.9999)\n",
    "    start_a = min_angle\n",
    "    end_a = start_a + angle_incre\n",
    "\n",
    "    angles = np.zeros(pc.shape[0])\n",
    "    for i, p in enumerate(pc):\n",
    "        angles[i] = math.atan2(p[1], p[0])\n",
    "\n",
    "    laser = []\n",
    "    while start_a < max_angle:\n",
    "        bundle = pc[np.where((angles > start_a) & (angles < end_a))][:, :-1]\n",
    "        if len(bundle) == 0:\n",
    "            d = max_dis\n",
    "        else:\n",
    "            bundle = np.linalg.norm(bundle, axis=1)\n",
    "            d = np.min(bundle)\n",
    "            d = max_dis if d > max_dis else d\n",
    "        laser.append(d)\n",
    "        start_a += angle_incre\n",
    "        end_a += angle_incre\n",
    "\n",
    "    laser = np.array(laser)\n",
    "    return laser\n"
   ],
   "execution_count": 23,
   "outputs": []
  },
  {
   "cell_type": "markdown",
   "metadata": {
    "colab": {
     "base_uri": "https://localhost:8080/",
     "height": 505
    },
    "id": "QyRatC2nQZ_b",
    "executionInfo": {
     "status": "ok",
     "timestamp": 1626266435984,
     "user_tz": -480,
     "elapsed": 624,
     "user": {
      "displayName": "Jui-Te Huang",
      "photoUrl": "https://lh3.googleusercontent.com/a-/AOh14GioA6PIPFKbZb2-aw0ScD3obxPh0H9bkT1cyakMog=s64",
      "userId": "03810060886891291687"
     }
    },
    "outputId": "69ea1516-f70d-48df-b8cb-57cb018c429b",
    "pycharm": {
     "name": "#%% md\n"
    }
   },
   "source": [
    "可视化重建"
   ]
  },
  {
   "cell_type": "code",
   "execution_count": 25,
   "outputs": [
    {
     "name": "stdout",
     "output_type": "stream",
     "text": [
      "data index:  98615\n"
     ]
    },
    {
     "data": {
      "text/plain": "<Figure size 576x576 with 1 Axes>",
      "image/png": "[encoded data removed]"
     },
     "metadata": {
      "needs_background": "light"
     },
     "output_type": "display_data"
    }
   ],
   "source": [
    "indx = random.randint(0, len(radar_dataset)-1)\n",
    "l, r = radar_dataset[indx]\n",
    "print('data index: ', indx)\n",
    "r_t = torch.Tensor(r).to(device)\n",
    "r_t = torch.unsqueeze(r_t, dim=1)\n",
    "\n",
    "l_t, encoder_attention, decoder_attention = netG(\n",
    "    r_t, None, attention_map=True)\n",
    "l_t = l_t.detach().cpu().numpy()\n",
    "encoder_attention = encoder_attention.detach().cpu().numpy()[0]\n",
    "decoder_attention = decoder_attention.detach().cpu().numpy()[0]\n",
    "\n",
    "r = filter(r)\n",
    "r_scan = pc_to_laser(r[:, 3:6])\n",
    "\n",
    "laser_visual([r_scan, l, l_t], names=['radar', 'lidar', 'reconstruct'], range_limit=4.9)"
   ],
   "metadata": {
    "collapsed": false,
    "pycharm": {
     "name": "#%%\n"
    }
   }
  }
 ]
}