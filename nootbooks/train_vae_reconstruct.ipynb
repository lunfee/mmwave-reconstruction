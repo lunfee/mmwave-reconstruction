{
 "nbformat": 4,
 "nbformat_minor": 0,
 "metadata": {
  "colab": {
   "name": "train_vae_reconstruct.ipynb",
   "provenance": [],
   "collapsed_sections": []
  },
  "kernelspec": {
   "name": "python3",
   "language": "python",
   "display_name": "Python 3"
  },
  "language_info": {
   "name": "python"
  },
  "accelerator": "GPU"
 },
 "cells": [
  {
   "cell_type": "markdown",
   "metadata": {
    "id": "HIaFtpT9BdRr"
   },
   "source": [
    "# VAE reconstruct"
   ]
  },
  {
   "cell_type": "code",
   "metadata": {
    "id": "KRlGclVbK9Ww"
   },
   "source": [
    "import os\n",
    "import io\n",
    "import cv2\n",
    "import copy\n",
    "import math\n",
    "import random\n",
    "import numpy as np\n",
    "import pickle as pkl\n",
    "import datetime\n",
    "from collections import deque\n",
    "from tqdm import tqdm, trange\n",
    "from typing import Deque, Dict, List, Tuple\n",
    "\n",
    "%matplotlib inline\n",
    "import matplotlib.pyplot as plt\n",
    "\n",
    "import torch\n",
    "import torch.nn as nn\n",
    "import torch.nn.functional as F\n",
    "import torch.optim as optim\n",
    "from torch.autograd import Variable\n",
    "from torch.utils.data.dataset import Dataset\n",
    "from torch.utils.data import DataLoader, random_split\n"
   ],
   "execution_count": 1,
   "outputs": []
  },
  {
   "cell_type": "markdown",
   "metadata": {
    "id": "87rcDi0o1XEU"
   },
   "source": [
    "## hyper parameters"
   ]
  },
  {
   "cell_type": "code",
   "metadata": {
    "id": "zntjxCGr1Z8p"
   },
   "source": [
    "parameters = dict(\n",
    "    kernel=3,\n",
    "    stride=2,\n",
    "    padding=2,\n",
    "    latent=128,\n",
    "    deconv_dim=32,\n",
    "    deconv_channel=128,\n",
    "    adjust_linear=235,\n",
    "    epoch=100,\n",
    "    learning_rate=0.001,\n",
    "    batch_size=128,\n",
    "    lambda_kld=1e-5,\n",
    "    decoder=\"deconv\",\n",
    ")\n",
    "\n",
    "class Struct:\n",
    "    def __init__(self, **entries):\n",
    "        self.__dict__.update(entries)\n",
    "config = Struct(**parameters)"
   ],
   "execution_count": 2,
   "outputs": []
  },
  {
   "cell_type": "markdown",
   "metadata": {
    "id": "bwAJwKfPwR9c"
   },
   "source": [
    "## download & prepare dataset"
   ]
  },
  {
   "cell_type": "code",
   "metadata": {
    "colab": {
     "base_uri": "https://localhost:8080/"
    },
    "id": "hR2tanrmwNdL",
    "executionInfo": {
     "status": "ok",
     "timestamp": 1626264003424,
     "user_tz": -480,
     "elapsed": 7259,
     "user": {
      "displayName": "Jui-Te Huang",
      "photoUrl": "https://lh3.googleusercontent.com/a-/AOh14GioA6PIPFKbZb2-aw0ScD3obxPh0H9bkT1cyakMog=s64",
      "userId": "03810060886891291687"
     }
    },
    "outputId": "718a66ab-1c4e-4d5e-cdbf-100a302e652b"
   },
   "source": [
    "# !gdown --id 1w-o0896Biga-DrSG0gZKq9z4y5bFWuW8\n",
    "# !unzip -o -q pkl-transitions-20210704T103021Z-001.zip"
   ],
   "execution_count": null,
   "outputs": [
    {
     "output_type": "stream",
     "text": [
      "Downloading...\n",
      "From: https://drive.google.com/uc?id=1w-o0896Biga-DrSG0gZKq9z4y5bFWuW8\n",
      "To: /content/pkl-transitions-20210704T103021Z-001.zip\n",
      "108MB [00:01, 85.2MB/s]\n"
     ],
     "name": "stdout"
    }
   ]
  },
  {
   "cell_type": "code",
   "metadata": {
    "colab": {
     "base_uri": "https://localhost:8080/"
    },
    "id": "M3BwVMwvyhH-",
    "executionInfo": {
     "status": "ok",
     "timestamp": 1626264003425,
     "user_tz": -480,
     "elapsed": 15,
     "user": {
      "displayName": "Jui-Te Huang",
      "photoUrl": "https://lh3.googleusercontent.com/a-/AOh14GioA6PIPFKbZb2-aw0ScD3obxPh0H9bkT1cyakMog=s64",
      "userId": "03810060886891291687"
     }
    },
    "outputId": "5adcbeef-10ae-491e-d7c2-bbf49bec6aa6"
   },
   "source": [
    "# for dataset\n",
    "paths = []\n",
    "main_path = '../pkl-transitions'\n",
    "dirs = os.listdir(main_path)\n",
    "dirs.sort()\n",
    "for d in dirs:\n",
    "    dirs1 = os.listdir(main_path+'/'+d)\n",
    "    dirs1.sort()\n",
    "    for d2 in dirs1:\n",
    "        paths.append(main_path+'/'+d+'/'+d2)\n",
    "print('%d files' % len(paths))"
   ],
   "execution_count": 3,
   "outputs": [
    {
     "name": "stdout",
     "output_type": "stream",
     "text": [
      "228 files\n"
     ]
    }
   ]
  },
  {
   "cell_type": "code",
   "metadata": {
    "id": "Et9W0f6Z0EG7"
   },
   "source": [
    "class MMDataset(Dataset):\n",
    "    def __init__(self, paths):\n",
    "        self.transitions = []\n",
    "\n",
    "        for p in tqdm(paths):\n",
    "            with open(p, \"rb\") as f:\n",
    "                demo = pkl.load(f, encoding=\"bytes\")\n",
    "                self.transitions.extend(demo)\n",
    "\n",
    "    def __getitem__(self, index):\n",
    "        mm_scan = self.transitions[index][b'mm_scan']\n",
    "        laser_scan = self.transitions[index][b'laser_scan']\n",
    "        mm_scan = torch.Tensor(mm_scan).reshape(1, -1)\n",
    "        laser_scan = torch.Tensor(laser_scan).reshape(1, -1)\n",
    "\n",
    "        return mm_scan, laser_scan\n",
    "\n",
    "    def __len__(self):\n",
    "        return len(self.transitions)\n",
    "mm_dataset = MMDataset(paths)\n",
    "\n",
    "loader = DataLoader(dataset=mm_dataset,\n",
    "                    batch_size=config.batch_size,\n",
    "                    shuffle=True,\n",
    "                    num_workers=2)"
   ],
   "execution_count": 4,
   "outputs": [
    {
     "name": "stderr",
     "output_type": "stream",
     "text": [
      "100%|██████████| 228/228 [00:02<00:00, 79.85it/s]\n"
     ]
    }
   ]
  },
  {
   "cell_type": "markdown",
   "metadata": {
    "id": "BgqUEVJ_Nw_p"
   },
   "source": [
    "## Model"
   ]
  },
  {
   "cell_type": "code",
   "metadata": {
    "id": "c2KHEEzoL06W"
   },
   "source": [
    "class MMvae(nn.Module):\n",
    "    def __init__(self):\n",
    "        super(MMvae, self).__init__()\n",
    "        kernel = 3\n",
    "        stride = 2\n",
    "        self.conv = nn.Sequential(\n",
    "            nn.Conv1d(1, 64, kernel_size=kernel, stride=stride),\n",
    "            nn.ReLU(),\n",
    "            nn.Conv1d(64, 64, kernel_size=kernel, stride=stride),\n",
    "            nn.ReLU()\n",
    "        )\n",
    "\n",
    "        dim = 64*59\n",
    "        self.linear1 = nn.Sequential(\n",
    "            nn.Linear(dim, 512),\n",
    "            nn.ReLU()\n",
    "        )\n",
    "        self.en_fc1 = nn.Linear(512, config.latent)\n",
    "        self.en_fc2 = nn.Linear(512, config.latent)\n",
    "\n",
    "        self.de_fc1 = nn.Sequential(\n",
    "            nn.Linear(config.latent, config.deconv_channel*config.deconv_dim),\n",
    "            nn.ReLU()\n",
    "        )\n",
    "\n",
    "        self.de_conv = nn.Sequential(\n",
    "            nn.ConvTranspose1d(config.deconv_channel, config.deconv_channel //\n",
    "                               2, kernel, stride=stride, padding=config.padding),\n",
    "            # nn.ReLU(),\n",
    "            nn.ConvTranspose1d(config.deconv_channel//2, config.deconv_channel //\n",
    "                               4, kernel, stride=stride, padding=config.padding),\n",
    "            # nn.ReLU(),\n",
    "            nn.ConvTranspose1d(config.deconv_channel//4, 1,\n",
    "                               kernel, stride=stride, padding=config.padding),\n",
    "            # nn.ReLU(),\n",
    "        )\n",
    "        self.adjust_linear = nn.Sequential(\n",
    "            nn.Linear(config.adjust_linear, 241),\n",
    "            nn.ReLU()\n",
    "        )\n",
    "\n",
    "    def encoder(self, x):\n",
    "        x = self.conv(x)\n",
    "        x = x.view(x.size(0), -1)\n",
    "        x = self.linear1(x)\n",
    "        mean = self.en_fc1(x)\n",
    "        logvar = self.en_fc2(x)\n",
    "        return mean, logvar\n",
    "\n",
    "    def reparameter(self, mean, logvar):\n",
    "        std = torch.exp(0.5*logvar)\n",
    "        eps = torch.randn_like(std)\n",
    "        return mean + eps*std\n",
    "\n",
    "    def decoder(self, x):\n",
    "        x = self.de_fc1(x)\n",
    "        x = x.view(-1, config.deconv_channel, config.deconv_dim)\n",
    "        x = self.de_conv(x)\n",
    "        x = self.adjust_linear(x)\n",
    "        return x\n",
    "\n",
    "    def forward(self, x):\n",
    "        mean, logvar = self.encoder(x)\n",
    "        x = self.reparameter(mean, logvar)\n",
    "        x = self.decoder(x)\n",
    "        return x, mean, logvar\n"
   ],
   "execution_count": 5,
   "outputs": []
  },
  {
   "cell_type": "markdown",
   "metadata": {
    "id": "RnBSzMKuOAPH"
   },
   "source": [
    "## train VAE"
   ]
  },
  {
   "cell_type": "markdown",
   "metadata": {
    "id": "PsTv85RWOD6I"
   },
   "source": [
    "### config"
   ]
  },
  {
   "cell_type": "code",
   "metadata": {
    "id": "k0mT0WQqN_e9",
    "colab": {
     "base_uri": "https://localhost:8080/"
    },
    "executionInfo": {
     "status": "ok",
     "timestamp": 1626264018943,
     "user_tz": -480,
     "elapsed": 11648,
     "user": {
      "displayName": "Jui-Te Huang",
      "photoUrl": "https://lh3.googleusercontent.com/a-/AOh14GioA6PIPFKbZb2-aw0ScD3obxPh0H9bkT1cyakMog=s64",
      "userId": "03810060886891291687"
     }
    },
    "outputId": "e3753d05-b4d5-4e12-ecbd-ffb2721a7aae"
   },
   "source": [
    "device = torch.device(\"cuda:0\" if torch.cuda.is_available() else \"cpu\")\n",
    "print('device, ', device)\n",
    "model = MMvae()\n",
    "model.to(device)\n",
    "optimizer = optim.Adam(model.parameters(), lr=config.learning_rate)"
   ],
   "execution_count": 6,
   "outputs": [
    {
     "name": "stdout",
     "output_type": "stream",
     "text": [
      "device,  cuda:0\n"
     ]
    }
   ]
  },
  {
   "cell_type": "markdown",
   "metadata": {
    "id": "8lmXBuF2OF37"
   },
   "source": [
    "### start"
   ]
  },
  {
   "cell_type": "code",
   "metadata": {
    "id": "vWKfcEsoOGyW"
   },
   "source": [
    "recon_loss = nn.MSELoss()\n",
    "\n",
    "def loss_function(x, x_hat, mean, logvar):\n",
    "    # recon = F.binary_cross_entropy(x_hat, x, reduction='sum')\n",
    "    recon = recon_loss(x_hat, x)\n",
    "\n",
    "    KLD = -0.5 * torch.sum(1 + logvar - mean.pow(2) - logvar.exp())\n",
    "\n",
    "    return recon + config.lambda_kld*KLD, recon, KLD"
   ],
   "execution_count": 7,
   "outputs": []
  },
  {
   "cell_type": "code",
   "metadata": {
    "id": "rkWbiYlaOQ1G",
    "colab": {
     "base_uri": "https://localhost:8080/"
    },
    "executionInfo": {
     "status": "ok",
     "timestamp": 1626265340646,
     "user_tz": -480,
     "elapsed": 1321713,
     "user": {
      "displayName": "Jui-Te Huang",
      "photoUrl": "https://lh3.googleusercontent.com/a-/AOh14GioA6PIPFKbZb2-aw0ScD3obxPh0H9bkT1cyakMog=s64",
      "userId": "03810060886891291687"
     }
    },
    "outputId": "ee790bc1-d19f-4565-953d-3a57bf4b0045"
   },
   "source": [
    "metrics = {'total loss': [],'reconstruction loss': [], 'KL-divergence': []}\n",
    "step = 0\n",
    "t = trange(config.epoch)\n",
    "for e in t:\n",
    "    for mm_scan, laser_scan in loader:\n",
    "        mm_scan = mm_scan.to(device)\n",
    "        laser_scan = laser_scan.to(device)\n",
    "\n",
    "        optimizer.zero_grad()\n",
    "        x_hat, mean, logvar = model(mm_scan)\n",
    "        elbo, recon, kld = loss_function(laser_scan, x_hat, mean, logvar)\n",
    "        elbo.backward()\n",
    "        optimizer.step()\n",
    "\n",
    "        metrics['total loss'].append(elbo.item())\n",
    "        metrics['reconstruction loss'].append(recon.item())\n",
    "        metrics['KL-divergence'].append(kld.item())\n",
    "\n",
    "        t.set_description(\"step %d\"%step)\n",
    "        step+=1\n",
    "\n"
   ],
   "execution_count": 8,
   "outputs": [
    {
     "name": "stderr",
     "output_type": "stream",
     "text": [
      "step 1138:   1%|          | 1/100 [00:14<24:18, 14.73s/it]\n"
     ]
    },
    {
     "ename": "KeyboardInterrupt",
     "evalue": "",
     "output_type": "error",
     "traceback": [
      "\u001B[0;31m---------------------------------------------------------------------------\u001B[0m",
      "\u001B[0;31mKeyboardInterrupt\u001B[0m                         Traceback (most recent call last)",
      "\u001B[0;32m<ipython-input-8-84f31995dd48>\u001B[0m in \u001B[0;36m<module>\u001B[0;34m\u001B[0m\n\u001B[1;32m      8\u001B[0m \u001B[0;34m\u001B[0m\u001B[0m\n\u001B[1;32m      9\u001B[0m         \u001B[0moptimizer\u001B[0m\u001B[0;34m.\u001B[0m\u001B[0mzero_grad\u001B[0m\u001B[0;34m(\u001B[0m\u001B[0;34m)\u001B[0m\u001B[0;34m\u001B[0m\u001B[0;34m\u001B[0m\u001B[0m\n\u001B[0;32m---> 10\u001B[0;31m         \u001B[0mx_hat\u001B[0m\u001B[0;34m,\u001B[0m \u001B[0mmean\u001B[0m\u001B[0;34m,\u001B[0m \u001B[0mlogvar\u001B[0m \u001B[0;34m=\u001B[0m \u001B[0mmodel\u001B[0m\u001B[0;34m(\u001B[0m\u001B[0mmm_scan\u001B[0m\u001B[0;34m)\u001B[0m\u001B[0;34m\u001B[0m\u001B[0;34m\u001B[0m\u001B[0m\n\u001B[0m\u001B[1;32m     11\u001B[0m         \u001B[0melbo\u001B[0m\u001B[0;34m,\u001B[0m \u001B[0mrecon\u001B[0m\u001B[0;34m,\u001B[0m \u001B[0mkld\u001B[0m \u001B[0;34m=\u001B[0m \u001B[0mloss_function\u001B[0m\u001B[0;34m(\u001B[0m\u001B[0mlaser_scan\u001B[0m\u001B[0;34m,\u001B[0m \u001B[0mx_hat\u001B[0m\u001B[0;34m,\u001B[0m \u001B[0mmean\u001B[0m\u001B[0;34m,\u001B[0m \u001B[0mlogvar\u001B[0m\u001B[0;34m)\u001B[0m\u001B[0;34m\u001B[0m\u001B[0;34m\u001B[0m\u001B[0m\n\u001B[1;32m     12\u001B[0m         \u001B[0melbo\u001B[0m\u001B[0;34m.\u001B[0m\u001B[0mbackward\u001B[0m\u001B[0;34m(\u001B[0m\u001B[0;34m)\u001B[0m\u001B[0;34m\u001B[0m\u001B[0;34m\u001B[0m\u001B[0m\n",
      "\u001B[0;32m~/anaconda3/envs/tc/lib/python3.6/site-packages/torch/nn/modules/module.py\u001B[0m in \u001B[0;36m_call_impl\u001B[0;34m(self, *input, **kwargs)\u001B[0m\n\u001B[1;32m    725\u001B[0m             \u001B[0mresult\u001B[0m \u001B[0;34m=\u001B[0m \u001B[0mself\u001B[0m\u001B[0;34m.\u001B[0m\u001B[0m_slow_forward\u001B[0m\u001B[0;34m(\u001B[0m\u001B[0;34m*\u001B[0m\u001B[0minput\u001B[0m\u001B[0;34m,\u001B[0m \u001B[0;34m**\u001B[0m\u001B[0mkwargs\u001B[0m\u001B[0;34m)\u001B[0m\u001B[0;34m\u001B[0m\u001B[0;34m\u001B[0m\u001B[0m\n\u001B[1;32m    726\u001B[0m         \u001B[0;32melse\u001B[0m\u001B[0;34m:\u001B[0m\u001B[0;34m\u001B[0m\u001B[0;34m\u001B[0m\u001B[0m\n\u001B[0;32m--> 727\u001B[0;31m             \u001B[0mresult\u001B[0m \u001B[0;34m=\u001B[0m \u001B[0mself\u001B[0m\u001B[0;34m.\u001B[0m\u001B[0mforward\u001B[0m\u001B[0;34m(\u001B[0m\u001B[0;34m*\u001B[0m\u001B[0minput\u001B[0m\u001B[0;34m,\u001B[0m \u001B[0;34m**\u001B[0m\u001B[0mkwargs\u001B[0m\u001B[0;34m)\u001B[0m\u001B[0;34m\u001B[0m\u001B[0;34m\u001B[0m\u001B[0m\n\u001B[0m\u001B[1;32m    728\u001B[0m         for hook in itertools.chain(\n\u001B[1;32m    729\u001B[0m                 \u001B[0m_global_forward_hooks\u001B[0m\u001B[0;34m.\u001B[0m\u001B[0mvalues\u001B[0m\u001B[0;34m(\u001B[0m\u001B[0;34m)\u001B[0m\u001B[0;34m,\u001B[0m\u001B[0;34m\u001B[0m\u001B[0;34m\u001B[0m\u001B[0m\n",
      "\u001B[0;32m<ipython-input-5-6b7eaa059722>\u001B[0m in \u001B[0;36mforward\u001B[0;34m(self, x)\u001B[0m\n\u001B[1;32m     61\u001B[0m \u001B[0;34m\u001B[0m\u001B[0m\n\u001B[1;32m     62\u001B[0m     \u001B[0;32mdef\u001B[0m \u001B[0mforward\u001B[0m\u001B[0;34m(\u001B[0m\u001B[0mself\u001B[0m\u001B[0;34m,\u001B[0m \u001B[0mx\u001B[0m\u001B[0;34m)\u001B[0m\u001B[0;34m:\u001B[0m\u001B[0;34m\u001B[0m\u001B[0;34m\u001B[0m\u001B[0m\n\u001B[0;32m---> 63\u001B[0;31m         \u001B[0mmean\u001B[0m\u001B[0;34m,\u001B[0m \u001B[0mlogvar\u001B[0m \u001B[0;34m=\u001B[0m \u001B[0mself\u001B[0m\u001B[0;34m.\u001B[0m\u001B[0mencoder\u001B[0m\u001B[0;34m(\u001B[0m\u001B[0mx\u001B[0m\u001B[0;34m)\u001B[0m\u001B[0;34m\u001B[0m\u001B[0;34m\u001B[0m\u001B[0m\n\u001B[0m\u001B[1;32m     64\u001B[0m         \u001B[0mx\u001B[0m \u001B[0;34m=\u001B[0m \u001B[0mself\u001B[0m\u001B[0;34m.\u001B[0m\u001B[0mreparameter\u001B[0m\u001B[0;34m(\u001B[0m\u001B[0mmean\u001B[0m\u001B[0;34m,\u001B[0m \u001B[0mlogvar\u001B[0m\u001B[0;34m)\u001B[0m\u001B[0;34m\u001B[0m\u001B[0;34m\u001B[0m\u001B[0m\n\u001B[1;32m     65\u001B[0m         \u001B[0mx\u001B[0m \u001B[0;34m=\u001B[0m \u001B[0mself\u001B[0m\u001B[0;34m.\u001B[0m\u001B[0mdecoder\u001B[0m\u001B[0;34m(\u001B[0m\u001B[0mx\u001B[0m\u001B[0;34m)\u001B[0m\u001B[0;34m\u001B[0m\u001B[0;34m\u001B[0m\u001B[0m\n",
      "\u001B[0;32m<ipython-input-5-6b7eaa059722>\u001B[0m in \u001B[0;36mencoder\u001B[0;34m(self, x)\u001B[0m\n\u001B[1;32m     41\u001B[0m \u001B[0;34m\u001B[0m\u001B[0m\n\u001B[1;32m     42\u001B[0m     \u001B[0;32mdef\u001B[0m \u001B[0mencoder\u001B[0m\u001B[0;34m(\u001B[0m\u001B[0mself\u001B[0m\u001B[0;34m,\u001B[0m \u001B[0mx\u001B[0m\u001B[0;34m)\u001B[0m\u001B[0;34m:\u001B[0m\u001B[0;34m\u001B[0m\u001B[0;34m\u001B[0m\u001B[0m\n\u001B[0;32m---> 43\u001B[0;31m         \u001B[0mx\u001B[0m \u001B[0;34m=\u001B[0m \u001B[0mself\u001B[0m\u001B[0;34m.\u001B[0m\u001B[0mconv\u001B[0m\u001B[0;34m(\u001B[0m\u001B[0mx\u001B[0m\u001B[0;34m)\u001B[0m\u001B[0;34m\u001B[0m\u001B[0;34m\u001B[0m\u001B[0m\n\u001B[0m\u001B[1;32m     44\u001B[0m         \u001B[0mx\u001B[0m \u001B[0;34m=\u001B[0m \u001B[0mx\u001B[0m\u001B[0;34m.\u001B[0m\u001B[0mview\u001B[0m\u001B[0;34m(\u001B[0m\u001B[0mx\u001B[0m\u001B[0;34m.\u001B[0m\u001B[0msize\u001B[0m\u001B[0;34m(\u001B[0m\u001B[0;36m0\u001B[0m\u001B[0;34m)\u001B[0m\u001B[0;34m,\u001B[0m \u001B[0;34m-\u001B[0m\u001B[0;36m1\u001B[0m\u001B[0;34m)\u001B[0m\u001B[0;34m\u001B[0m\u001B[0;34m\u001B[0m\u001B[0m\n\u001B[1;32m     45\u001B[0m         \u001B[0mx\u001B[0m \u001B[0;34m=\u001B[0m \u001B[0mself\u001B[0m\u001B[0;34m.\u001B[0m\u001B[0mlinear1\u001B[0m\u001B[0;34m(\u001B[0m\u001B[0mx\u001B[0m\u001B[0;34m)\u001B[0m\u001B[0;34m\u001B[0m\u001B[0;34m\u001B[0m\u001B[0m\n",
      "\u001B[0;32m~/anaconda3/envs/tc/lib/python3.6/site-packages/torch/nn/modules/module.py\u001B[0m in \u001B[0;36m_call_impl\u001B[0;34m(self, *input, **kwargs)\u001B[0m\n\u001B[1;32m    725\u001B[0m             \u001B[0mresult\u001B[0m \u001B[0;34m=\u001B[0m \u001B[0mself\u001B[0m\u001B[0;34m.\u001B[0m\u001B[0m_slow_forward\u001B[0m\u001B[0;34m(\u001B[0m\u001B[0;34m*\u001B[0m\u001B[0minput\u001B[0m\u001B[0;34m,\u001B[0m \u001B[0;34m**\u001B[0m\u001B[0mkwargs\u001B[0m\u001B[0;34m)\u001B[0m\u001B[0;34m\u001B[0m\u001B[0;34m\u001B[0m\u001B[0m\n\u001B[1;32m    726\u001B[0m         \u001B[0;32melse\u001B[0m\u001B[0;34m:\u001B[0m\u001B[0;34m\u001B[0m\u001B[0;34m\u001B[0m\u001B[0m\n\u001B[0;32m--> 727\u001B[0;31m             \u001B[0mresult\u001B[0m \u001B[0;34m=\u001B[0m \u001B[0mself\u001B[0m\u001B[0;34m.\u001B[0m\u001B[0mforward\u001B[0m\u001B[0;34m(\u001B[0m\u001B[0;34m*\u001B[0m\u001B[0minput\u001B[0m\u001B[0;34m,\u001B[0m \u001B[0;34m**\u001B[0m\u001B[0mkwargs\u001B[0m\u001B[0;34m)\u001B[0m\u001B[0;34m\u001B[0m\u001B[0;34m\u001B[0m\u001B[0m\n\u001B[0m\u001B[1;32m    728\u001B[0m         for hook in itertools.chain(\n\u001B[1;32m    729\u001B[0m                 \u001B[0m_global_forward_hooks\u001B[0m\u001B[0;34m.\u001B[0m\u001B[0mvalues\u001B[0m\u001B[0;34m(\u001B[0m\u001B[0;34m)\u001B[0m\u001B[0;34m,\u001B[0m\u001B[0;34m\u001B[0m\u001B[0;34m\u001B[0m\u001B[0m\n",
      "\u001B[0;32m~/anaconda3/envs/tc/lib/python3.6/site-packages/torch/nn/modules/container.py\u001B[0m in \u001B[0;36mforward\u001B[0;34m(self, input)\u001B[0m\n\u001B[1;32m    115\u001B[0m     \u001B[0;32mdef\u001B[0m \u001B[0mforward\u001B[0m\u001B[0;34m(\u001B[0m\u001B[0mself\u001B[0m\u001B[0;34m,\u001B[0m \u001B[0minput\u001B[0m\u001B[0;34m)\u001B[0m\u001B[0;34m:\u001B[0m\u001B[0;34m\u001B[0m\u001B[0;34m\u001B[0m\u001B[0m\n\u001B[1;32m    116\u001B[0m         \u001B[0;32mfor\u001B[0m \u001B[0mmodule\u001B[0m \u001B[0;32min\u001B[0m \u001B[0mself\u001B[0m\u001B[0;34m:\u001B[0m\u001B[0;34m\u001B[0m\u001B[0;34m\u001B[0m\u001B[0m\n\u001B[0;32m--> 117\u001B[0;31m             \u001B[0minput\u001B[0m \u001B[0;34m=\u001B[0m \u001B[0mmodule\u001B[0m\u001B[0;34m(\u001B[0m\u001B[0minput\u001B[0m\u001B[0;34m)\u001B[0m\u001B[0;34m\u001B[0m\u001B[0;34m\u001B[0m\u001B[0m\n\u001B[0m\u001B[1;32m    118\u001B[0m         \u001B[0;32mreturn\u001B[0m \u001B[0minput\u001B[0m\u001B[0;34m\u001B[0m\u001B[0;34m\u001B[0m\u001B[0m\n\u001B[1;32m    119\u001B[0m \u001B[0;34m\u001B[0m\u001B[0m\n",
      "\u001B[0;32m~/anaconda3/envs/tc/lib/python3.6/site-packages/torch/nn/modules/module.py\u001B[0m in \u001B[0;36m_call_impl\u001B[0;34m(self, *input, **kwargs)\u001B[0m\n\u001B[1;32m    725\u001B[0m             \u001B[0mresult\u001B[0m \u001B[0;34m=\u001B[0m \u001B[0mself\u001B[0m\u001B[0;34m.\u001B[0m\u001B[0m_slow_forward\u001B[0m\u001B[0;34m(\u001B[0m\u001B[0;34m*\u001B[0m\u001B[0minput\u001B[0m\u001B[0;34m,\u001B[0m \u001B[0;34m**\u001B[0m\u001B[0mkwargs\u001B[0m\u001B[0;34m)\u001B[0m\u001B[0;34m\u001B[0m\u001B[0;34m\u001B[0m\u001B[0m\n\u001B[1;32m    726\u001B[0m         \u001B[0;32melse\u001B[0m\u001B[0;34m:\u001B[0m\u001B[0;34m\u001B[0m\u001B[0;34m\u001B[0m\u001B[0m\n\u001B[0;32m--> 727\u001B[0;31m             \u001B[0mresult\u001B[0m \u001B[0;34m=\u001B[0m \u001B[0mself\u001B[0m\u001B[0;34m.\u001B[0m\u001B[0mforward\u001B[0m\u001B[0;34m(\u001B[0m\u001B[0;34m*\u001B[0m\u001B[0minput\u001B[0m\u001B[0;34m,\u001B[0m \u001B[0;34m**\u001B[0m\u001B[0mkwargs\u001B[0m\u001B[0;34m)\u001B[0m\u001B[0;34m\u001B[0m\u001B[0;34m\u001B[0m\u001B[0m\n\u001B[0m\u001B[1;32m    728\u001B[0m         for hook in itertools.chain(\n\u001B[1;32m    729\u001B[0m                 \u001B[0m_global_forward_hooks\u001B[0m\u001B[0;34m.\u001B[0m\u001B[0mvalues\u001B[0m\u001B[0;34m(\u001B[0m\u001B[0;34m)\u001B[0m\u001B[0;34m,\u001B[0m\u001B[0;34m\u001B[0m\u001B[0;34m\u001B[0m\u001B[0m\n",
      "\u001B[0;32m~/anaconda3/envs/tc/lib/python3.6/site-packages/torch/nn/modules/activation.py\u001B[0m in \u001B[0;36mforward\u001B[0;34m(self, input)\u001B[0m\n\u001B[1;32m    100\u001B[0m \u001B[0;34m\u001B[0m\u001B[0m\n\u001B[1;32m    101\u001B[0m     \u001B[0;32mdef\u001B[0m \u001B[0mforward\u001B[0m\u001B[0;34m(\u001B[0m\u001B[0mself\u001B[0m\u001B[0;34m,\u001B[0m \u001B[0minput\u001B[0m\u001B[0;34m:\u001B[0m \u001B[0mTensor\u001B[0m\u001B[0;34m)\u001B[0m \u001B[0;34m->\u001B[0m \u001B[0mTensor\u001B[0m\u001B[0;34m:\u001B[0m\u001B[0;34m\u001B[0m\u001B[0;34m\u001B[0m\u001B[0m\n\u001B[0;32m--> 102\u001B[0;31m         \u001B[0;32mreturn\u001B[0m \u001B[0mF\u001B[0m\u001B[0;34m.\u001B[0m\u001B[0mrelu\u001B[0m\u001B[0;34m(\u001B[0m\u001B[0minput\u001B[0m\u001B[0;34m,\u001B[0m \u001B[0minplace\u001B[0m\u001B[0;34m=\u001B[0m\u001B[0mself\u001B[0m\u001B[0;34m.\u001B[0m\u001B[0minplace\u001B[0m\u001B[0;34m)\u001B[0m\u001B[0;34m\u001B[0m\u001B[0;34m\u001B[0m\u001B[0m\n\u001B[0m\u001B[1;32m    103\u001B[0m \u001B[0;34m\u001B[0m\u001B[0m\n\u001B[1;32m    104\u001B[0m     \u001B[0;32mdef\u001B[0m \u001B[0mextra_repr\u001B[0m\u001B[0;34m(\u001B[0m\u001B[0mself\u001B[0m\u001B[0;34m)\u001B[0m \u001B[0;34m->\u001B[0m \u001B[0mstr\u001B[0m\u001B[0;34m:\u001B[0m\u001B[0;34m\u001B[0m\u001B[0;34m\u001B[0m\u001B[0m\n",
      "\u001B[0;32m~/anaconda3/envs/tc/lib/python3.6/site-packages/torch/nn/functional.py\u001B[0m in \u001B[0;36mrelu\u001B[0;34m(input, inplace)\u001B[0m\n\u001B[1;32m   1134\u001B[0m         \u001B[0mresult\u001B[0m \u001B[0;34m=\u001B[0m \u001B[0mtorch\u001B[0m\u001B[0;34m.\u001B[0m\u001B[0mrelu_\u001B[0m\u001B[0;34m(\u001B[0m\u001B[0minput\u001B[0m\u001B[0;34m)\u001B[0m\u001B[0;34m\u001B[0m\u001B[0;34m\u001B[0m\u001B[0m\n\u001B[1;32m   1135\u001B[0m     \u001B[0;32melse\u001B[0m\u001B[0;34m:\u001B[0m\u001B[0;34m\u001B[0m\u001B[0;34m\u001B[0m\u001B[0m\n\u001B[0;32m-> 1136\u001B[0;31m         \u001B[0mresult\u001B[0m \u001B[0;34m=\u001B[0m \u001B[0mtorch\u001B[0m\u001B[0;34m.\u001B[0m\u001B[0mrelu\u001B[0m\u001B[0;34m(\u001B[0m\u001B[0minput\u001B[0m\u001B[0;34m)\u001B[0m\u001B[0;34m\u001B[0m\u001B[0;34m\u001B[0m\u001B[0m\n\u001B[0m\u001B[1;32m   1137\u001B[0m     \u001B[0;32mreturn\u001B[0m \u001B[0mresult\u001B[0m\u001B[0;34m\u001B[0m\u001B[0;34m\u001B[0m\u001B[0m\n\u001B[1;32m   1138\u001B[0m \u001B[0;34m\u001B[0m\u001B[0m\n",
      "\u001B[0;31mKeyboardInterrupt\u001B[0m: "
     ]
    }
   ]
  },
  {
   "cell_type": "code",
   "execution_count": 9,
   "outputs": [],
   "source": [
    "# Print model's state_dict\n",
    "# print(\"Model's state_dict:\")\n",
    "# for param_tensor in model.state_dict():\n",
    "#     print(param_tensor, \"\\t\", model.state_dict()[param_tensor].size())\n",
    "\n",
    "# Print optimizer's state_dict\n",
    "# print(\"Optimizer's state_dict:\")\n",
    "# for var_name in optimizer.state_dict():\n",
    "#     print(var_name, \"\\t\", optimizer.state_dict()[var_name])\n",
    "\n",
    "torch.save(model.state_dict(), '../model/vae/first_VAE.pth')"
   ],
   "metadata": {
    "collapsed": false,
    "pycharm": {
     "name": "#%%\n"
    }
   }
  },
  {
   "cell_type": "markdown",
   "source": [
    "### logs"
   ],
   "metadata": {
    "collapsed": false
   }
  },
  {
   "cell_type": "code",
   "metadata": {
    "id": "rKedUgVfQgle",
    "colab": {
     "base_uri": "https://localhost:8080/",
     "height": 262
    },
    "executionInfo": {
     "status": "ok",
     "timestamp": 1626265341099,
     "user_tz": -480,
     "elapsed": 483,
     "user": {
      "displayName": "Jui-Te Huang",
      "photoUrl": "https://lh3.googleusercontent.com/a-/AOh14GioA6PIPFKbZb2-aw0ScD3obxPh0H9bkT1cyakMog=s64",
      "userId": "03810060886891291687"
     }
    },
    "outputId": "67d01468-11ac-486b-fea8-d838fd92049d"
   },
   "source": [
    "fig = plt.figure(figsize=(16,8))\n",
    "indx = 1\n",
    "for k, v in metrics.items():\n",
    "  ax = plt.subplot(2,3,indx)\n",
    "  plt.title(k)\n",
    "  plt.plot(np.arange(len(v)), v)\n",
    "  indx+=1"
   ],
   "execution_count": 10,
   "outputs": [
    {
     "data": {
      "text/plain": "<Figure size 1152x576 with 3 Axes>",
      "image/png": "[encoded data removed]"
     },
     "metadata": {
      "needs_background": "light"
     },
     "output_type": "display_data"
    }
   ]
  },
  {
   "cell_type": "markdown",
   "metadata": {
    "id": "5rKNFlHP3yQ6"
   },
   "source": [
    "## load pretrained model (optional)"
   ]
  },
  {
   "cell_type": "code",
   "metadata": {
    "colab": {
     "base_uri": "https://localhost:8080/"
    },
    "id": "m0EvnhMQ30fy",
    "executionInfo": {
     "status": "ok",
     "timestamp": 1626265343042,
     "user_tz": -480,
     "elapsed": 1712,
     "user": {
      "displayName": "Jui-Te Huang",
      "photoUrl": "https://lh3.googleusercontent.com/a-/AOh14GioA6PIPFKbZb2-aw0ScD3obxPh0H9bkT1cyakMog=s64",
      "userId": "03810060886891291687"
     }
    },
    "outputId": "bd7823e3-b23d-4fa1-b307-f2152adc13d6"
   },
   "source": [
    "# !gdown --id 1dUS9pnwGn9oUI9PIVqzGpGL3M7aXVquD"
   ],
   "execution_count": null,
   "outputs": [
    {
     "output_type": "stream",
     "text": [
      "Downloading...\n",
      "From: https://drive.google.com/uc?id=1dUS9pnwGn9oUI9PIVqzGpGL3M7aXVquD\n",
      "To: /content/0726_1557.pth\n",
      "10.8MB [00:00, 26.0MB/s]\n"
     ],
     "name": "stdout"
    }
   ]
  },
  {
   "cell_type": "code",
   "metadata": {
    "colab": {
     "base_uri": "https://localhost:8080/"
    },
    "id": "ciCgYLNZ3w6P",
    "executionInfo": {
     "status": "ok",
     "timestamp": 1626265343509,
     "user_tz": -480,
     "elapsed": 469,
     "user": {
      "displayName": "Jui-Te Huang",
      "photoUrl": "https://lh3.googleusercontent.com/a-/AOh14GioA6PIPFKbZb2-aw0ScD3obxPh0H9bkT1cyakMog=s64",
      "userId": "03810060886891291687"
     }
    },
    "outputId": "a54c5876-5851-4e34-e98a-f239bd099bd5"
   },
   "source": [
    "device = torch.device(\"cuda:0\" if torch.cuda.is_available() else \"cpu\")\n",
    "print('device, ', device)\n",
    "model = MMvae()\n",
    "model.to(device)\n",
    "\n",
    "model.load_state_dict(torch.load(\"/home/lunfee/PycharmProjects/radar-transformer/model/vae/first_VAE.pth\"))\n",
    "model.eval()\n"
   ],
   "execution_count": 11,
   "outputs": [
    {
     "name": "stdout",
     "output_type": "stream",
     "text": [
      "device,  cuda:0\n"
     ]
    },
    {
     "data": {
      "text/plain": "MMvae(\n  (conv): Sequential(\n    (0): Conv1d(1, 64, kernel_size=(3,), stride=(2,))\n    (1): ReLU()\n    (2): Conv1d(64, 64, kernel_size=(3,), stride=(2,))\n    (3): ReLU()\n  )\n  (linear1): Sequential(\n    (0): Linear(in_features=3776, out_features=512, bias=True)\n    (1): ReLU()\n  )\n  (en_fc1): Linear(in_features=512, out_features=128, bias=True)\n  (en_fc2): Linear(in_features=512, out_features=128, bias=True)\n  (de_fc1): Sequential(\n    (0): Linear(in_features=128, out_features=4096, bias=True)\n    (1): ReLU()\n  )\n  (de_conv): Sequential(\n    (0): ConvTranspose1d(128, 64, kernel_size=(3,), stride=(2,), padding=(2,))\n    (1): ConvTranspose1d(64, 32, kernel_size=(3,), stride=(2,), padding=(2,))\n    (2): ConvTranspose1d(32, 1, kernel_size=(3,), stride=(2,), padding=(2,))\n  )\n  (adjust_linear): Sequential(\n    (0): Linear(in_features=235, out_features=241, bias=True)\n    (1): ReLU()\n  )\n)"
     },
     "execution_count": 11,
     "metadata": {},
     "output_type": "execute_result"
    }
   ]
  },
  {
   "cell_type": "markdown",
   "metadata": {
    "id": "ognL6zj4Bsmq"
   },
   "source": [
    "## evaluation"
   ]
  },
  {
   "cell_type": "code",
   "metadata": {
    "colab": {
     "base_uri": "https://localhost:8080/"
    },
    "id": "ON0u8mJaON0V",
    "executionInfo": {
     "status": "ok",
     "timestamp": 1626265343510,
     "user_tz": -480,
     "elapsed": 25,
     "user": {
      "displayName": "Jui-Te Huang",
      "photoUrl": "https://lh3.googleusercontent.com/a-/AOh14GioA6PIPFKbZb2-aw0ScD3obxPh0H9bkT1cyakMog=s64",
      "userId": "03810060886891291687"
     }
    },
    "outputId": "0245f8e9-22d9-4645-ca62-9c9664414e85"
   },
   "source": [
    "name_corridor = [\n",
    "'0717_1411','0720_1129','0722_1428','0722_1437','0722_1448','0722_1500',\n",
    "'0722_1506','0722_1510','0722_1514','0724_1101','0724_1132','0724_1204',\n",
    "'0727_1005','0727_1027','0727_1102','0727_1435','0727_1452','0727_1510',\n",
    "'0727_1520','0805_1108','0805_1127','0805_1147']\n",
    "\n",
    "name_parking = ['0717_1504','0720_1105','0805_1349','0805_1425']\n",
    "\n",
    "paths_corridor, paths_parking = [], []\n",
    "main_path = '/content/pkl-transitions'\n",
    "dirs = os.listdir(main_path)\n",
    "dirs.sort()\n",
    "for d in dirs:\n",
    "    dirs1 = os.listdir(main_path+'/'+d)\n",
    "    dirs1.sort()\n",
    "    for d2 in dirs1:\n",
    "        if any(s in d2 for s in name_corridor):\n",
    "            paths_corridor.append(main_path+'/'+d+'/'+d2)\n",
    "        elif any(s in d2 for s in name_parking):\n",
    "            paths_parking.append(main_path+'/'+d+'/'+d2)\n",
    "print('corridor files %d'%len(paths_corridor))\n",
    "print('parking files %d'%len(paths_parking))"
   ],
   "execution_count": 12,
   "outputs": [
    {
     "ename": "FileNotFoundError",
     "evalue": "[Errno 2] No such file or directory: '/content/pkl-transitions'",
     "output_type": "error",
     "traceback": [
      "\u001B[0;31m---------------------------------------------------------------------------\u001B[0m",
      "\u001B[0;31mFileNotFoundError\u001B[0m                         Traceback (most recent call last)",
      "\u001B[0;32m<ipython-input-12-42aec211a14b>\u001B[0m in \u001B[0;36m<module>\u001B[0;34m\u001B[0m\n\u001B[1;32m      9\u001B[0m \u001B[0mpaths_corridor\u001B[0m\u001B[0;34m,\u001B[0m \u001B[0mpaths_parking\u001B[0m \u001B[0;34m=\u001B[0m \u001B[0;34m[\u001B[0m\u001B[0;34m]\u001B[0m\u001B[0;34m,\u001B[0m \u001B[0;34m[\u001B[0m\u001B[0;34m]\u001B[0m\u001B[0;34m\u001B[0m\u001B[0;34m\u001B[0m\u001B[0m\n\u001B[1;32m     10\u001B[0m \u001B[0mmain_path\u001B[0m \u001B[0;34m=\u001B[0m \u001B[0;34m'/content/pkl-transitions'\u001B[0m\u001B[0;34m\u001B[0m\u001B[0;34m\u001B[0m\u001B[0m\n\u001B[0;32m---> 11\u001B[0;31m \u001B[0mdirs\u001B[0m \u001B[0;34m=\u001B[0m \u001B[0mos\u001B[0m\u001B[0;34m.\u001B[0m\u001B[0mlistdir\u001B[0m\u001B[0;34m(\u001B[0m\u001B[0mmain_path\u001B[0m\u001B[0;34m)\u001B[0m\u001B[0;34m\u001B[0m\u001B[0;34m\u001B[0m\u001B[0m\n\u001B[0m\u001B[1;32m     12\u001B[0m \u001B[0mdirs\u001B[0m\u001B[0;34m.\u001B[0m\u001B[0msort\u001B[0m\u001B[0;34m(\u001B[0m\u001B[0;34m)\u001B[0m\u001B[0;34m\u001B[0m\u001B[0;34m\u001B[0m\u001B[0m\n\u001B[1;32m     13\u001B[0m \u001B[0;32mfor\u001B[0m \u001B[0md\u001B[0m \u001B[0;32min\u001B[0m \u001B[0mdirs\u001B[0m\u001B[0;34m:\u001B[0m\u001B[0;34m\u001B[0m\u001B[0;34m\u001B[0m\u001B[0m\n",
      "\u001B[0;31mFileNotFoundError\u001B[0m: [Errno 2] No such file or directory: '/content/pkl-transitions'"
     ]
    }
   ]
  },
  {
   "cell_type": "code",
   "metadata": {
    "colab": {
     "base_uri": "https://localhost:8080/"
    },
    "id": "T_TmUbitOmNa",
    "executionInfo": {
     "status": "ok",
     "timestamp": 1626265346107,
     "user_tz": -480,
     "elapsed": 2615,
     "user": {
      "displayName": "Jui-Te Huang",
      "photoUrl": "https://lh3.googleusercontent.com/a-/AOh14GioA6PIPFKbZb2-aw0ScD3obxPh0H9bkT1cyakMog=s64",
      "userId": "03810060886891291687"
     }
    },
    "outputId": "b6ae091c-6fa4-40b7-96da-6a0b09f428cd"
   },
   "source": [
    "batch_size = 128\n",
    "model.eval()\n",
    "\n",
    "corridor_dataset = MMDataset(paths_corridor)\n",
    "loader_corridor = DataLoader(dataset=corridor_dataset,\n",
    "                    batch_size=batch_size,\n",
    "                    shuffle=True,\n",
    "                    num_workers=2)\n",
    "\n",
    "parking_dataset = MMDataset(paths_parking)\n",
    "loader_parking = DataLoader(dataset=parking_dataset,\n",
    "                    batch_size=batch_size,\n",
    "                    shuffle=True,\n",
    "                    num_workers=2)"
   ],
   "execution_count": null,
   "outputs": [
    {
     "output_type": "stream",
     "text": [
      "100%|██████████| 153/153 [00:02<00:00, 67.02it/s]\n",
      "100%|██████████| 31/31 [00:00<00:00, 66.72it/s]\n"
     ],
     "name": "stderr"
    }
   ]
  },
  {
   "cell_type": "code",
   "metadata": {
    "colab": {
     "base_uri": "https://localhost:8080/"
    },
    "id": "hjYwBi4UPOFV",
    "executionInfo": {
     "status": "ok",
     "timestamp": 1626265348431,
     "user_tz": -480,
     "elapsed": 2331,
     "user": {
      "displayName": "Jui-Te Huang",
      "photoUrl": "https://lh3.googleusercontent.com/a-/AOh14GioA6PIPFKbZb2-aw0ScD3obxPh0H9bkT1cyakMog=s64",
      "userId": "03810060886891291687"
     }
    },
    "outputId": "69b5341e-ed17-4dfc-bd93-5125345c23db"
   },
   "source": [
    "l1 = nn.L1Loss()\n",
    "\n",
    "L1 = []\n",
    "for mm_scan, laser_scan in loader_corridor:\n",
    "    mm_scan = mm_scan.to(device)\n",
    "    \n",
    "    x_hat,_,_ = model(mm_scan)\n",
    "    x_hat = x_hat.detach().cpu()\n",
    "    \n",
    "    L1.append(l1(laser_scan,x_hat))\n",
    "    \n",
    "print(\"\\n corridor L1: %.4f\"%np.mean(L1))"
   ],
   "execution_count": null,
   "outputs": [
    {
     "output_type": "stream",
     "text": [
      "\n",
      " corridor L1: 0.2315\n"
     ],
     "name": "stdout"
    }
   ]
  },
  {
   "cell_type": "code",
   "metadata": {
    "colab": {
     "base_uri": "https://localhost:8080/"
    },
    "id": "F77rW6CCPaF7",
    "executionInfo": {
     "status": "ok",
     "timestamp": 1626265349107,
     "user_tz": -480,
     "elapsed": 683,
     "user": {
      "displayName": "Jui-Te Huang",
      "photoUrl": "https://lh3.googleusercontent.com/a-/AOh14GioA6PIPFKbZb2-aw0ScD3obxPh0H9bkT1cyakMog=s64",
      "userId": "03810060886891291687"
     }
    },
    "outputId": "bea86d97-71d1-4935-82ad-7dad9364afb0"
   },
   "source": [
    "L1 = []\n",
    "for mm_scan, laser_scan in loader_parking:\n",
    "    mm_scan = mm_scan.to(device)\n",
    "    \n",
    "    x_hat,_,_ = model(mm_scan)\n",
    "    x_hat = x_hat.detach().cpu()\n",
    "    \n",
    "    L1.append(l1(laser_scan,x_hat))\n",
    "\n",
    "    \n",
    "print(\"\\n parking L1: %.4f\"%np.mean(L1))"
   ],
   "execution_count": null,
   "outputs": [
    {
     "output_type": "stream",
     "text": [
      "\n",
      " parking L1: 0.2722\n"
     ],
     "name": "stdout"
    }
   ]
  },
  {
   "cell_type": "markdown",
   "metadata": {
    "id": "o6DAg8otQZ_a"
   },
   "source": [
    "## visualize"
   ]
  },
  {
   "cell_type": "code",
   "metadata": {
    "id": "f13KvuSqQZ_b"
   },
   "source": [
    "def laser_visual(lasers=[], names=[], range_limit=6):\n",
    "  fig = plt.figure(figsize=(8, 8))\n",
    "  colors=['#3483EB','#FFA500','#15B01D']\n",
    "  for i, l in enumerate(lasers):\n",
    "    angle = 120\n",
    "    xp = []\n",
    "    yp = []\n",
    "    for r in l:\n",
    "        if r <= range_limit:\n",
    "            yp.append(r * math.cos(math.radians(angle)))\n",
    "            xp.append(r * math.sin(math.radians(angle)))\n",
    "        angle -= 1\n",
    "    plt.xlim(-6, 6)\n",
    "    plt.ylim(-6, 6)\n",
    "    plt.plot(xp, yp, '.', color=colors[i], label=names[i])\n",
    "  plt.legend(loc='lower right', fontsize=15)"
   ],
   "execution_count": 13,
   "outputs": []
  },
  {
   "cell_type": "markdown",
   "metadata": {
    "id": "kmQKEUuNQZ_b"
   },
   "source": [
    "### reconstruct sample\n",
    "repeate this block to visualize different samples"
   ]
  },
  {
   "cell_type": "code",
   "metadata": {
    "colab": {
     "base_uri": "https://localhost:8080/",
     "height": 487
    },
    "id": "QyRatC2nQZ_b",
    "executionInfo": {
     "status": "ok",
     "timestamp": 1626265349761,
     "user_tz": -480,
     "elapsed": 658,
     "user": {
      "displayName": "Jui-Te Huang",
      "photoUrl": "https://lh3.googleusercontent.com/a-/AOh14GioA6PIPFKbZb2-aw0ScD3obxPh0H9bkT1cyakMog=s64",
      "userId": "03810060886891291687"
     }
    },
    "outputId": "d8e3cd03-3e08-46f6-b33c-8edfb5025022"
   },
   "source": [
    "sample_loader=loader\n",
    "# sample_loader=loader_corridor\n",
    "# sample_loader=loader_parking\n",
    "\n",
    "mm_scan, laser_scan = next(iter(sample_loader))\n",
    "x = mm_scan.to(device)\n",
    "reconstruct,_,_ = model(x)\n",
    "reconstruct = reconstruct[0][0].detach().cpu().numpy()\n",
    "mm_scan=mm_scan[0][0].numpy()\n",
    "laser_scan=laser_scan[0][0].numpy()\n",
    "\n",
    "laser_visual([mm_scan, laser_scan, reconstruct], names=['radar', 'lidar', 'reconstruct'], range_limit=4.9)"
   ],
   "execution_count": 14,
   "outputs": [
    {
     "data": {
      "text/plain": "<Figure size 576x576 with 1 Axes>",
      "image/png": "[encoded data removed]"
     },
     "metadata": {
      "needs_background": "light"
     },
     "output_type": "display_data"
    }
   ]
  },
  {
   "cell_type": "code",
   "execution_count": 7,
   "outputs": [],
   "source": [
    "with open(r'/home/lunfee/PycharmProjects/radar-transformer/data/pkl/dataset_0720_1120.pkl', 'rb') as mm:\n",
    "    data1 = pkl.load(mm, encoding='bytes')\n"
   ],
   "metadata": {
    "collapsed": false,
    "pycharm": {
     "name": "#%%\n"
    }
   }
  }
 ]
}