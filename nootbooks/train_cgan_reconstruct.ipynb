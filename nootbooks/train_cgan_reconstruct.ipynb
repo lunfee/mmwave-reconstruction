{
 "nbformat": 4,
 "nbformat_minor": 0,
 "metadata": {
  "colab": {
   "name": "train_cgan_reconstruct.ipynb",
   "provenance": [],
   "collapsed_sections": []
  },
  "kernelspec": {
   "name": "python3",
   "language": "python",
   "display_name": "Python 3"
  },
  "language_info": {
   "name": "python"
  },
  "accelerator": "GPU"
 },
 "cells": [
  {
   "cell_type": "markdown",
   "metadata": {
    "id": "FyXhri04BICZ"
   },
   "source": [
    "# cGAN reconstruct"
   ]
  },
  {
   "cell_type": "code",
   "metadata": {
    "id": "XTCcs7sFu4B4"
   },
   "source": [
    "import os\n",
    "import io\n",
    "import cv2\n",
    "import copy\n",
    "import math\n",
    "import random\n",
    "import numpy as np\n",
    "import pickle as pkl\n",
    "import datetime\n",
    "from collections import deque\n",
    "from tqdm import tqdm, trange\n",
    "from typing import Deque, Dict, List, Tuple\n",
    "\n",
    "%matplotlib inline\n",
    "import matplotlib.pyplot as plt\n",
    "\n",
    "import torch\n",
    "import torch.nn as nn\n",
    "import torch.nn.functional as F\n",
    "import torch.optim as optim\n",
    "from torch.autograd import Variable\n",
    "from torch.utils.data.dataset import Dataset\n",
    "from torch.utils.data import DataLoader, random_split\n"
   ],
   "execution_count": 1,
   "outputs": []
  },
  {
   "cell_type": "markdown",
   "metadata": {
    "id": "87rcDi0o1XEU"
   },
   "source": [
    "## hyper parameters"
   ]
  },
  {
   "cell_type": "code",
   "metadata": {
    "id": "zntjxCGr1Z8p"
   },
   "source": [
    "parameters = dict(\n",
    "    kernel=3,\n",
    "    stride=2,\n",
    "    padding=2,\n",
    "    deconv_dim=32,\n",
    "    deconv_channel=128,\n",
    "    adjust_linear=235,\n",
    "    epoch=100,\n",
    "    beta1=0.5,\n",
    "    learning_rate=0.0002,\n",
    "    nz=100,\n",
    "    lambda_l1=1,\n",
    "    batch_size=128,\n",
    "    vis_num=4,\n",
    "    visualize_epoch=10,\n",
    ")\n",
    "\n",
    "class Struct:\n",
    "    def __init__(self, **entries):\n",
    "        self.__dict__.update(entries)\n",
    "config = Struct(**parameters)"
   ],
   "execution_count": 2,
   "outputs": []
  },
  {
   "cell_type": "markdown",
   "metadata": {
    "id": "bwAJwKfPwR9c"
   },
   "source": [
    "## prepare dataset\n"
   ]
  },
  {
   "cell_type": "code",
   "metadata": {
    "colab": {
     "base_uri": "https://localhost:8080/"
    },
    "id": "M3BwVMwvyhH-",
    "executionInfo": {
     "status": "ok",
     "timestamp": 1628355644211,
     "user_tz": -480,
     "elapsed": 42,
     "user": {
      "displayName": "Jui-Te Huang",
      "photoUrl": "https://lh3.googleusercontent.com/a-/AOh14GioA6PIPFKbZb2-aw0ScD3obxPh0H9bkT1cyakMog=s64",
      "userId": "03810060886891291687"
     }
    },
    "outputId": "5f3ee90f-b8e8-43d9-9cbc-c61ce2febd8b"
   },
   "source": [
    "paths = []\n",
    "main_path = '../dataset'\n",
    "dirs = os.listdir(main_path)\n",
    "dirs.sort()\n",
    "for d in dirs:\n",
    "    dirs1 = os.listdir(main_path+'/'+d)\n",
    "    dirs1.sort()\n",
    "    for d2 in dirs1:\n",
    "        paths.append(main_path+'/'+d+'/'+d2)\n",
    "print('%d files' % len(paths))"
   ],
   "execution_count": 22,
   "outputs": [
    {
     "name": "stdout",
     "output_type": "stream",
     "text": [
      "140 files\n"
     ]
    }
   ]
  },
  {
   "cell_type": "code",
   "metadata": {
    "id": "Et9W0f6Z0EG7"
   },
   "source": [
    "class MMDataset(Dataset):\n",
    "    def __init__(self, paths):\n",
    "        self.transitions = []\n",
    "\n",
    "        for p in tqdm(paths):\n",
    "            with open(p, \"rb\") as f:\n",
    "                demo = pkl.load(f, encoding=\"bytes\")\n",
    "                self.transitions.extend(demo)\n",
    "\n",
    "    def __getitem__(self, index):\n",
    "        mm_scan = self.transitions[index][b'mm_scan']\n",
    "        laser_scan = self.transitions[index][b'laser_scan']\n",
    "        mm_scan = torch.Tensor(mm_scan).reshape(1, -1)\n",
    "        laser_scan = torch.Tensor(laser_scan).reshape(1, -1)\n",
    "\n",
    "        return mm_scan, laser_scan\n",
    "\n",
    "    def __len__(self):\n",
    "        return len(self.transitions)\n",
    "\n",
    "\n"
   ],
   "execution_count": 23,
   "outputs": []
  },
  {
   "cell_type": "code",
   "metadata": {
    "colab": {
     "base_uri": "https://localhost:8080/"
    },
    "id": "NLpRc6lO1AWA",
    "executionInfo": {
     "status": "ok",
     "timestamp": 1628355647845,
     "user_tz": -480,
     "elapsed": 3666,
     "user": {
      "displayName": "Jui-Te Huang",
      "photoUrl": "https://lh3.googleusercontent.com/a-/AOh14GioA6PIPFKbZb2-aw0ScD3obxPh0H9bkT1cyakMog=s64",
      "userId": "03810060886891291687"
     }
    },
    "outputId": "63c4670b-57b9-4759-c163-9aeda6cebe7d"
   },
   "source": [
    "mm_dataset = MMDataset(paths)\n",
    "\n",
    "loader = DataLoader(dataset=mm_dataset,\n",
    "                    batch_size=config.batch_size,\n",
    "                    shuffle=True,\n",
    "                    num_workers=2)\n"
   ],
   "execution_count": 24,
   "outputs": [
    {
     "name": "stderr",
     "output_type": "stream",
     "text": [
      "100%|██████████| 140/140 [00:01<00:00, 72.33it/s]\n"
     ]
    }
   ]
  },
  {
   "cell_type": "markdown",
   "source": [
    "## visualize"
   ],
   "metadata": {
    "collapsed": false
   }
  },
  {
   "cell_type": "code",
   "execution_count": 25,
   "outputs": [],
   "source": [
    "def laser_visual(lasers=[], names=[], range_limit=6):\n",
    "  fig = plt.figure(figsize=(8, 8))\n",
    "  colors=['#3483EB','#FFA500','#15B01D']\n",
    "  for i, l in enumerate(lasers):\n",
    "    angle = 120\n",
    "    xp = []\n",
    "    yp = []\n",
    "    for r in l:\n",
    "        if r <= range_limit:\n",
    "            yp.append(r * math.cos(math.radians(angle)))\n",
    "            xp.append(r * math.sin(math.radians(angle)))\n",
    "        angle -= 1\n",
    "    plt.xlim(-6, 6)\n",
    "    plt.ylim(-6, 6)\n",
    "    plt.plot(xp, yp, '.', color=colors[i], label=names[i])\n",
    "  plt.legend(loc='lower right', fontsize=15)\n"
   ],
   "metadata": {
    "collapsed": false,
    "pycharm": {
     "name": "#%%\n"
    }
   }
  },
  {
   "cell_type": "code",
   "execution_count": 26,
   "outputs": [
    {
     "name": "stdout",
     "output_type": "stream",
     "text": [
      "[5.        5.        1.3986999 5.        5.        5.        5.\n",
      " 1.3126743 5.        1.3035945 5.        1.2818987 5.        1.2671931\n",
      " 5.        5.        5.        5.        5.        5.        5.\n",
      " 5.        1.8892509 1.1402875 1.8876184 1.093042  5.        1.9722042\n",
      " 5.        5.        5.        5.        5.        5.        5.\n",
      " 5.        5.        5.        5.        5.        5.        5.\n",
      " 5.        5.        5.        5.        5.        5.        5.\n",
      " 5.        5.        5.        5.        5.        5.        5.\n",
      " 1.1796154 5.        1.069254  5.        5.        5.        5.\n",
      " 5.        5.        5.        1.2078767 5.        5.        5.\n",
      " 5.        5.        5.        1.4950898 5.        5.        5.\n",
      " 5.        5.        5.        5.        5.        5.        5.\n",
      " 1.6334267 5.        5.        5.        5.        5.        5.\n",
      " 5.        5.        5.        5.        5.        5.        5.\n",
      " 5.        5.        5.        5.        5.        5.        5.\n",
      " 5.        5.        5.        5.        5.        5.        5.\n",
      " 5.        5.        5.        5.        5.        5.        5.\n",
      " 5.        5.        5.        5.        5.        5.        5.\n",
      " 5.        5.        5.        5.        5.        5.        5.\n",
      " 5.        5.        5.        5.        5.        5.        5.\n",
      " 5.        5.        5.        5.        5.        5.        5.\n",
      " 5.        5.        5.        5.        5.        5.        5.\n",
      " 5.        2.894797  2.851823  5.        2.8037994 5.        5.\n",
      " 2.756711  5.        5.        2.723118  5.        5.        5.\n",
      " 5.        2.3480577 2.3183227 2.2275977 2.1846776 5.        2.1104825\n",
      " 2.104971  2.0650783 5.        2.0416148 5.        2.0238976 1.977645\n",
      " 5.        5.        5.        5.        5.        5.        5.\n",
      " 5.        5.        5.        5.        5.        1.6516287 1.6928388\n",
      " 1.6330068 1.6744663 5.        1.6107635 1.6494416 1.5965225 5.\n",
      " 1.5760118 5.        5.        5.        1.5852513 5.        5.\n",
      " 5.        2.9334702 5.        5.        5.        1.6222756 1.5803066\n",
      " 1.625784  2.8971264 5.        5.        5.        5.        5.\n",
      " 5.        5.        5.        5.        5.        5.        5.\n",
      " 5.        5.        5.        5.        3.6856883 1.7889824 4.523428\n",
      " 3.5060053 5.        5.       ]\n",
      "(241,)\n",
      "(241,)\n"
     ]
    },
    {
     "data": {
      "text/plain": "<Figure size 576x576 with 1 Axes>",
      "image/png": "[encoded data removed]"
     },
     "metadata": {
      "needs_background": "light"
     },
     "output_type": "display_data"
    }
   ],
   "source": [
    "mmwave1 = mm_dataset.transitions[178][b'mm_scan']\n",
    "lindar1 = mm_dataset.transitions[178][b'laser_scan']\n",
    "print(mmwave1)\n",
    "print(mmwave1.shape)\n",
    "print(lindar1.shape)\n",
    "laser_visual([mmwave1, lindar1], names=['radar', 'lidar'], range_limit=4.9)"
   ],
   "metadata": {
    "collapsed": false,
    "pycharm": {
     "name": "#%%\n"
    }
   }
  },
  {
   "cell_type": "markdown",
   "metadata": {
    "id": "vig3Kuo020MT"
   },
   "source": [
    "## models"
   ]
  },
  {
   "cell_type": "markdown",
   "metadata": {
    "id": "xzEJ6tX33F0X"
   },
   "source": [
    "### generator"
   ]
  },
  {
   "cell_type": "code",
   "metadata": {
    "id": "zlFkMPc31LnV"
   },
   "source": [
    "class Generator(nn.Module):\n",
    "    def __init__(self):\n",
    "        super(Generator, self).__init__()\n",
    "        kernel = 3\n",
    "        stride = 2\n",
    "        self.conv = nn.Sequential(\n",
    "            nn.Conv1d(1, 64, kernel_size=kernel, stride=stride),\n",
    "            nn.ReLU(),\n",
    "            nn.Conv1d(64, 64, kernel_size=kernel, stride=stride),\n",
    "            nn.ReLU()\n",
    "        )\n",
    "\n",
    "        dim = 64*59\n",
    "        self.linear = nn.Sequential(\n",
    "            nn.Linear(dim, 512),\n",
    "            nn.ReLU(),\n",
    "            nn.Linear(512, 128)\n",
    "        )\n",
    "\n",
    "        self.de_fc1 = nn.Sequential(\n",
    "            nn.Linear(128, config.deconv_channel*config.deconv_dim),\n",
    "            nn.ReLU()\n",
    "        )\n",
    "\n",
    "        self.de_conv = nn.Sequential(\n",
    "            nn.ConvTranspose1d(config.deconv_channel, config.deconv_channel //\n",
    "                               2, kernel, stride=stride, padding=config.padding),\n",
    "            nn.ConvTranspose1d(config.deconv_channel//2, config.deconv_channel //\n",
    "                               4, kernel, stride=stride, padding=config.padding),\n",
    "            nn.ConvTranspose1d(config.deconv_channel//4, 1,\n",
    "                               kernel, stride=stride, padding=config.padding),\n",
    "        )\n",
    "        self.adjust_linear = nn.Sequential(\n",
    "            nn.Linear(config.adjust_linear, 241),\n",
    "            nn.ReLU()\n",
    "        )\n",
    "\n",
    "    def encoder(self, x):\n",
    "        x = self.conv(x)\n",
    "        x = x.view(x.size(0), -1)\n",
    "        x = self.linear(x)\n",
    "        return x\n",
    "\n",
    "    def decoder(self, x):\n",
    "        x = self.de_fc1(x)\n",
    "        x = x.view(-1, config.deconv_channel, config.deconv_dim)\n",
    "        x = self.de_conv(x)\n",
    "        x = self.adjust_linear(x)\n",
    "        return x\n",
    "\n",
    "    def forward(self, x):\n",
    "        x = self.encoder(x)\n",
    "        x = self.decoder(x)\n",
    "        return x"
   ],
   "execution_count": 16,
   "outputs": []
  },
  {
   "cell_type": "markdown",
   "metadata": {
    "id": "-vazBtnz28sw"
   },
   "source": [
    "### discriminator"
   ]
  },
  {
   "cell_type": "code",
   "metadata": {
    "id": "XSmb2p2s3EuZ"
   },
   "source": [
    "class Discriminator(nn.Module):\n",
    "    def __init__(self):\n",
    "        super(Discriminator, self).__init__()\n",
    "        kernel = 3\n",
    "        stride = 2\n",
    "        self.conv = nn.Sequential(\n",
    "            nn.Conv1d(2, 64, kernel_size=kernel, stride=stride),\n",
    "            nn.ReLU(),\n",
    "            nn.Conv1d(64, 64, kernel_size=kernel, stride=stride),\n",
    "            nn.ReLU()\n",
    "        )\n",
    "\n",
    "        dim = 64*59\n",
    "        self.linear = nn.Sequential(\n",
    "            nn.Linear(dim, 512),\n",
    "            nn.ReLU(),\n",
    "            nn.Linear(512, 128),\n",
    "            nn.ReLU(),\n",
    "            nn.Linear(128, 1),\n",
    "            nn.Sigmoid(),\n",
    "        )\n",
    "\n",
    "    def forward(self, x):\n",
    "\n",
    "        x = self.conv(x)\n",
    "        x = x.view(x.size(0), -1)\n",
    "        x = self.linear(x)\n",
    "\n",
    "        return x"
   ],
   "execution_count": 17,
   "outputs": []
  },
  {
   "cell_type": "markdown",
   "metadata": {
    "id": "5Cncd9oA2541"
   },
   "source": [
    "### patched discriminator"
   ]
  },
  {
   "cell_type": "code",
   "metadata": {
    "id": "1ugDfdok278D"
   },
   "source": [
    "class DiscriminatorPatch(nn.Module):\n",
    "    def __init__(self):\n",
    "        super(DiscriminatorPatch, self).__init__()\n",
    "        kernel = 3\n",
    "        stride = 2\n",
    "        self.conv = nn.Sequential(\n",
    "            nn.Conv1d(2, 64, kernel_size=kernel, stride=stride),\n",
    "            nn.ReLU(),\n",
    "            nn.Conv1d(64, 32, kernel_size=kernel, stride=stride),\n",
    "            nn.ReLU(),\n",
    "            nn.Conv1d(32, 16, kernel_size=kernel, stride=stride),\n",
    "            nn.ReLU(),\n",
    "            nn.Conv1d(16, 1, kernel_size=kernel, stride=stride),\n",
    "            nn.Sigmoid(),\n",
    "        )\n",
    "\n",
    "    def forward(self, x):\n",
    "\n",
    "        x = self.conv(x)\n",
    "\n",
    "        return x"
   ],
   "execution_count": 18,
   "outputs": []
  },
  {
   "cell_type": "markdown",
   "metadata": {
    "id": "X_EPej7e3sP_"
   },
   "source": [
    "## train"
   ]
  },
  {
   "cell_type": "markdown",
   "metadata": {
    "id": "KEmx9MxT33Ai"
   },
   "source": [
    "### config"
   ]
  },
  {
   "cell_type": "code",
   "metadata": {
    "colab": {
     "base_uri": "https://localhost:8080/"
    },
    "id": "n_ulA7uS3asE",
    "executionInfo": {
     "status": "ok",
     "timestamp": 1628355677789,
     "user_tz": -480,
     "elapsed": 12010,
     "user": {
      "displayName": "Jui-Te Huang",
      "photoUrl": "https://lh3.googleusercontent.com/a-/AOh14GioA6PIPFKbZb2-aw0ScD3obxPh0H9bkT1cyakMog=s64",
      "userId": "03810060886891291687"
     }
    },
    "outputId": "ef968190-3aab-475b-cec1-c386d9a7b1e5"
   },
   "source": [
    "device = torch.device(\"cuda:0\" if torch.cuda.is_available() else \"cpu\")\n",
    "print('device, ', device)\n",
    "\n",
    "netG = Generator().to(device)\n",
    "netD = Discriminator().to(device)\n",
    "# netD = DiscriminatorPatch().to(device)\n",
    "\n",
    "# optimizers\n",
    "optimizer_g = optim.Adam(netG.parameters(),\n",
    "                         lr=config.learning_rate, betas=(config.beta1, 0.999))\n",
    "optimizer_d = optim.Adam(netD.parameters(),\n",
    "                         lr=config.learning_rate, betas=(config.beta1, 0.999))\n",
    "\n",
    "# criterion\n",
    "# gan_loss = nn.BCEWithLogitsLoss()\n",
    "gan_loss = nn.MSELoss()\n",
    "l1_loss = nn.L1Loss()"
   ],
   "execution_count": 19,
   "outputs": [
    {
     "name": "stdout",
     "output_type": "stream",
     "text": [
      "device,  cuda:0\n"
     ]
    }
   ]
  },
  {
   "cell_type": "markdown",
   "metadata": {
    "id": "DOITGwi237aC"
   },
   "source": [
    "### start"
   ]
  },
  {
   "cell_type": "code",
   "metadata": {
    "id": "ukTAc3ip3_pz"
   },
   "source": [
    "def set_requires_grad(net, requires_grad=False):\n",
    "    for param in net.parameters():\n",
    "        param.requires_grad = requires_grad"
   ],
   "execution_count": 20,
   "outputs": []
  },
  {
   "cell_type": "code",
   "metadata": {
    "colab": {
     "base_uri": "https://localhost:8080/"
    },
    "id": "MH7oq7h-38tg",
    "executionInfo": {
     "status": "ok",
     "timestamp": 1628357757634,
     "user_tz": -480,
     "elapsed": 2079856,
     "user": {
      "displayName": "Jui-Te Huang",
      "photoUrl": "https://lh3.googleusercontent.com/a-/AOh14GioA6PIPFKbZb2-aw0ScD3obxPh0H9bkT1cyakMog=s64",
      "userId": "03810060886891291687"
     }
    },
    "outputId": "bd5316e9-6536-4182-ac7b-4035a4c50c91"
   },
   "source": [
    "log_metrics = {\n",
    "    'loss_D_real': [],\n",
    "    'loss_D_fake': [],\n",
    "    'loss_D': [],\n",
    "    'loss_G_gan': [],\n",
    "    'loss_G_l1': [],\n",
    "    'loss_G': [],\n",
    "}\n",
    "\n",
    "step = 0\n",
    "t = trange(config.epoch)\n",
    "\n",
    "for epoch in t:\n",
    "    for mm_scan, laser_scan in loader:\n",
    "        x = mm_scan.to(device)\n",
    "        y = laser_scan.to(device)\n",
    "\n",
    "        # patch size 14\n",
    "        # fake_label = Variable(torch.Tensor(\n",
    "        #     np.zeros((x.size(0), 1, 14))), requires_grad=False).to(device)\n",
    "        # real_label = Variable(torch.Tensor(\n",
    "        #     np.ones((x.size(0), 1, 14))), requires_grad=False).to(device)\n",
    "\n",
    "        # patch size 1\n",
    "        fake_label = Variable(torch.Tensor(\n",
    "            np.zeros((x.size(0), 1))), requires_grad=False).to(device)\n",
    "        real_label = Variable(torch.Tensor(\n",
    "            np.ones((x.size(0), 1))), requires_grad=False).to(device)\n",
    "\n",
    "        fake_y = netG(x)\n",
    "\n",
    "        ########################### train D ############################\n",
    "\n",
    "        set_requires_grad(netD, True)\n",
    "        optimizer_d.zero_grad()\n",
    "\n",
    "        # fake\n",
    "        fake_xy = torch.cat((x, fake_y), dim=1)\n",
    "        pred_fake = netD(fake_xy.detach())\n",
    "        loss_D_fake = gan_loss(pred_fake, fake_label)\n",
    "\n",
    "        # real\n",
    "        real_xy = torch.cat((x, y), dim=1)\n",
    "        pred_real = netD(real_xy)\n",
    "        loss_D_real = gan_loss(pred_real, real_label)\n",
    "\n",
    "        # train\n",
    "        loss_D = (loss_D_real + loss_D_fake) * 0.5\n",
    "        loss_D.backward()\n",
    "        optimizer_d.step()\n",
    "\n",
    "        ########################### train G ############################\n",
    "\n",
    "        set_requires_grad(netD, False)\n",
    "        optimizer_g.zero_grad()\n",
    "\n",
    "        pred_fake = netD(fake_xy)\n",
    "        loss_G_gan = gan_loss(pred_fake, real_label)\n",
    "        loss_G_l1 = l1_loss(fake_y, y) * config.lambda_l1\n",
    "        loss_G = loss_G_gan + loss_G_l1\n",
    "        loss_G.backward()\n",
    "        optimizer_g.step()\n",
    "\n",
    "        ########################### log ##################################\n",
    "\n",
    "        log_metrics['loss_D_real'].append(loss_D_real.item())\n",
    "        log_metrics['loss_D_fake'].append(loss_D_fake.item())\n",
    "        log_metrics['loss_D'].append(loss_D.item())\n",
    "        log_metrics['loss_G_gan'].append(loss_G_gan.item())\n",
    "        log_metrics['loss_G_l1'].append(loss_G_l1.item())\n",
    "        log_metrics['loss_G'].append(loss_G.item())\n",
    "\n",
    "        step += 1\n",
    "        t.set_description('step: %d' % step)"
   ],
   "execution_count": 21,
   "outputs": [
    {
     "name": "stderr",
     "output_type": "stream",
     "text": [
      "  0%|          | 0/100 [00:00<?, ?it/s]\n"
     ]
    },
    {
     "ename": "IndexError",
     "evalue": "Caught IndexError in DataLoader worker process 0.\nOriginal Traceback (most recent call last):\n  File \"/home/lunfee/anaconda3/envs/tc/lib/python3.6/site-packages/torch/utils/data/_utils/worker.py\", line 198, in _worker_loop\n    data = fetcher.fetch(index)\n  File \"/home/lunfee/anaconda3/envs/tc/lib/python3.6/site-packages/torch/utils/data/_utils/fetch.py\", line 44, in fetch\n    data = [self.dataset[idx] for idx in possibly_batched_index]\n  File \"/home/lunfee/anaconda3/envs/tc/lib/python3.6/site-packages/torch/utils/data/_utils/fetch.py\", line 44, in <listcomp>\n    data = [self.dataset[idx] for idx in possibly_batched_index]\n  File \"<ipython-input-6-02355f642d7e>\", line 11, in __getitem__\n    mm_scan = self.transitions[index][b'mm_scan']\nIndexError: only integers, slices (`:`), ellipsis (`...`), numpy.newaxis (`None`) and integer or boolean arrays are valid indices\n",
     "output_type": "error",
     "traceback": [
      "\u001B[0;31m---------------------------------------------------------------------------\u001B[0m",
      "\u001B[0;31mIndexError\u001B[0m                                Traceback (most recent call last)",
      "\u001B[0;32m<ipython-input-21-399570040e20>\u001B[0m in \u001B[0;36m<module>\u001B[0;34m\u001B[0m\n\u001B[1;32m     12\u001B[0m \u001B[0;34m\u001B[0m\u001B[0m\n\u001B[1;32m     13\u001B[0m \u001B[0;32mfor\u001B[0m \u001B[0mepoch\u001B[0m \u001B[0;32min\u001B[0m \u001B[0mt\u001B[0m\u001B[0;34m:\u001B[0m\u001B[0;34m\u001B[0m\u001B[0;34m\u001B[0m\u001B[0m\n\u001B[0;32m---> 14\u001B[0;31m     \u001B[0;32mfor\u001B[0m \u001B[0mmm_scan\u001B[0m\u001B[0;34m,\u001B[0m \u001B[0mlaser_scan\u001B[0m \u001B[0;32min\u001B[0m \u001B[0mloader\u001B[0m\u001B[0;34m:\u001B[0m\u001B[0;34m\u001B[0m\u001B[0;34m\u001B[0m\u001B[0m\n\u001B[0m\u001B[1;32m     15\u001B[0m         \u001B[0mx\u001B[0m \u001B[0;34m=\u001B[0m \u001B[0mmm_scan\u001B[0m\u001B[0;34m.\u001B[0m\u001B[0mto\u001B[0m\u001B[0;34m(\u001B[0m\u001B[0mdevice\u001B[0m\u001B[0;34m)\u001B[0m\u001B[0;34m\u001B[0m\u001B[0;34m\u001B[0m\u001B[0m\n\u001B[1;32m     16\u001B[0m         \u001B[0my\u001B[0m \u001B[0;34m=\u001B[0m \u001B[0mlaser_scan\u001B[0m\u001B[0;34m.\u001B[0m\u001B[0mto\u001B[0m\u001B[0;34m(\u001B[0m\u001B[0mdevice\u001B[0m\u001B[0;34m)\u001B[0m\u001B[0;34m\u001B[0m\u001B[0;34m\u001B[0m\u001B[0m\n",
      "\u001B[0;32m~/anaconda3/envs/tc/lib/python3.6/site-packages/torch/utils/data/dataloader.py\u001B[0m in \u001B[0;36m__next__\u001B[0;34m(self)\u001B[0m\n\u001B[1;32m    433\u001B[0m         \u001B[0;32mif\u001B[0m \u001B[0mself\u001B[0m\u001B[0;34m.\u001B[0m\u001B[0m_sampler_iter\u001B[0m \u001B[0;32mis\u001B[0m \u001B[0;32mNone\u001B[0m\u001B[0;34m:\u001B[0m\u001B[0;34m\u001B[0m\u001B[0;34m\u001B[0m\u001B[0m\n\u001B[1;32m    434\u001B[0m             \u001B[0mself\u001B[0m\u001B[0;34m.\u001B[0m\u001B[0m_reset\u001B[0m\u001B[0;34m(\u001B[0m\u001B[0;34m)\u001B[0m\u001B[0;34m\u001B[0m\u001B[0;34m\u001B[0m\u001B[0m\n\u001B[0;32m--> 435\u001B[0;31m         \u001B[0mdata\u001B[0m \u001B[0;34m=\u001B[0m \u001B[0mself\u001B[0m\u001B[0;34m.\u001B[0m\u001B[0m_next_data\u001B[0m\u001B[0;34m(\u001B[0m\u001B[0;34m)\u001B[0m\u001B[0;34m\u001B[0m\u001B[0;34m\u001B[0m\u001B[0m\n\u001B[0m\u001B[1;32m    436\u001B[0m         \u001B[0mself\u001B[0m\u001B[0;34m.\u001B[0m\u001B[0m_num_yielded\u001B[0m \u001B[0;34m+=\u001B[0m \u001B[0;36m1\u001B[0m\u001B[0;34m\u001B[0m\u001B[0;34m\u001B[0m\u001B[0m\n\u001B[1;32m    437\u001B[0m         \u001B[0;32mif\u001B[0m \u001B[0mself\u001B[0m\u001B[0;34m.\u001B[0m\u001B[0m_dataset_kind\u001B[0m \u001B[0;34m==\u001B[0m \u001B[0m_DatasetKind\u001B[0m\u001B[0;34m.\u001B[0m\u001B[0mIterable\u001B[0m \u001B[0;32mand\u001B[0m\u001B[0;31m \u001B[0m\u001B[0;31m\\\u001B[0m\u001B[0;34m\u001B[0m\u001B[0;34m\u001B[0m\u001B[0m\n",
      "\u001B[0;32m~/anaconda3/envs/tc/lib/python3.6/site-packages/torch/utils/data/dataloader.py\u001B[0m in \u001B[0;36m_next_data\u001B[0;34m(self)\u001B[0m\n\u001B[1;32m   1083\u001B[0m             \u001B[0;32melse\u001B[0m\u001B[0;34m:\u001B[0m\u001B[0;34m\u001B[0m\u001B[0;34m\u001B[0m\u001B[0m\n\u001B[1;32m   1084\u001B[0m                 \u001B[0;32mdel\u001B[0m \u001B[0mself\u001B[0m\u001B[0;34m.\u001B[0m\u001B[0m_task_info\u001B[0m\u001B[0;34m[\u001B[0m\u001B[0midx\u001B[0m\u001B[0;34m]\u001B[0m\u001B[0;34m\u001B[0m\u001B[0;34m\u001B[0m\u001B[0m\n\u001B[0;32m-> 1085\u001B[0;31m                 \u001B[0;32mreturn\u001B[0m \u001B[0mself\u001B[0m\u001B[0;34m.\u001B[0m\u001B[0m_process_data\u001B[0m\u001B[0;34m(\u001B[0m\u001B[0mdata\u001B[0m\u001B[0;34m)\u001B[0m\u001B[0;34m\u001B[0m\u001B[0;34m\u001B[0m\u001B[0m\n\u001B[0m\u001B[1;32m   1086\u001B[0m \u001B[0;34m\u001B[0m\u001B[0m\n\u001B[1;32m   1087\u001B[0m     \u001B[0;32mdef\u001B[0m \u001B[0m_try_put_index\u001B[0m\u001B[0;34m(\u001B[0m\u001B[0mself\u001B[0m\u001B[0;34m)\u001B[0m\u001B[0;34m:\u001B[0m\u001B[0;34m\u001B[0m\u001B[0;34m\u001B[0m\u001B[0m\n",
      "\u001B[0;32m~/anaconda3/envs/tc/lib/python3.6/site-packages/torch/utils/data/dataloader.py\u001B[0m in \u001B[0;36m_process_data\u001B[0;34m(self, data)\u001B[0m\n\u001B[1;32m   1109\u001B[0m         \u001B[0mself\u001B[0m\u001B[0;34m.\u001B[0m\u001B[0m_try_put_index\u001B[0m\u001B[0;34m(\u001B[0m\u001B[0;34m)\u001B[0m\u001B[0;34m\u001B[0m\u001B[0;34m\u001B[0m\u001B[0m\n\u001B[1;32m   1110\u001B[0m         \u001B[0;32mif\u001B[0m \u001B[0misinstance\u001B[0m\u001B[0;34m(\u001B[0m\u001B[0mdata\u001B[0m\u001B[0;34m,\u001B[0m \u001B[0mExceptionWrapper\u001B[0m\u001B[0;34m)\u001B[0m\u001B[0;34m:\u001B[0m\u001B[0;34m\u001B[0m\u001B[0;34m\u001B[0m\u001B[0m\n\u001B[0;32m-> 1111\u001B[0;31m             \u001B[0mdata\u001B[0m\u001B[0;34m.\u001B[0m\u001B[0mreraise\u001B[0m\u001B[0;34m(\u001B[0m\u001B[0;34m)\u001B[0m\u001B[0;34m\u001B[0m\u001B[0;34m\u001B[0m\u001B[0m\n\u001B[0m\u001B[1;32m   1112\u001B[0m         \u001B[0;32mreturn\u001B[0m \u001B[0mdata\u001B[0m\u001B[0;34m\u001B[0m\u001B[0;34m\u001B[0m\u001B[0m\n\u001B[1;32m   1113\u001B[0m \u001B[0;34m\u001B[0m\u001B[0m\n",
      "\u001B[0;32m~/anaconda3/envs/tc/lib/python3.6/site-packages/torch/_utils.py\u001B[0m in \u001B[0;36mreraise\u001B[0;34m(self)\u001B[0m\n\u001B[1;32m    426\u001B[0m             \u001B[0;31m# have message field\u001B[0m\u001B[0;34m\u001B[0m\u001B[0;34m\u001B[0m\u001B[0;34m\u001B[0m\u001B[0m\n\u001B[1;32m    427\u001B[0m             \u001B[0;32mraise\u001B[0m \u001B[0mself\u001B[0m\u001B[0;34m.\u001B[0m\u001B[0mexc_type\u001B[0m\u001B[0;34m(\u001B[0m\u001B[0mmessage\u001B[0m\u001B[0;34m=\u001B[0m\u001B[0mmsg\u001B[0m\u001B[0;34m)\u001B[0m\u001B[0;34m\u001B[0m\u001B[0;34m\u001B[0m\u001B[0m\n\u001B[0;32m--> 428\u001B[0;31m         \u001B[0;32mraise\u001B[0m \u001B[0mself\u001B[0m\u001B[0;34m.\u001B[0m\u001B[0mexc_type\u001B[0m\u001B[0;34m(\u001B[0m\u001B[0mmsg\u001B[0m\u001B[0;34m)\u001B[0m\u001B[0;34m\u001B[0m\u001B[0;34m\u001B[0m\u001B[0m\n\u001B[0m\u001B[1;32m    429\u001B[0m \u001B[0;34m\u001B[0m\u001B[0m\n\u001B[1;32m    430\u001B[0m \u001B[0;34m\u001B[0m\u001B[0m\n",
      "\u001B[0;31mIndexError\u001B[0m: Caught IndexError in DataLoader worker process 0.\nOriginal Traceback (most recent call last):\n  File \"/home/lunfee/anaconda3/envs/tc/lib/python3.6/site-packages/torch/utils/data/_utils/worker.py\", line 198, in _worker_loop\n    data = fetcher.fetch(index)\n  File \"/home/lunfee/anaconda3/envs/tc/lib/python3.6/site-packages/torch/utils/data/_utils/fetch.py\", line 44, in fetch\n    data = [self.dataset[idx] for idx in possibly_batched_index]\n  File \"/home/lunfee/anaconda3/envs/tc/lib/python3.6/site-packages/torch/utils/data/_utils/fetch.py\", line 44, in <listcomp>\n    data = [self.dataset[idx] for idx in possibly_batched_index]\n  File \"<ipython-input-6-02355f642d7e>\", line 11, in __getitem__\n    mm_scan = self.transitions[index][b'mm_scan']\nIndexError: only integers, slices (`:`), ellipsis (`...`), numpy.newaxis (`None`) and integer or boolean arrays are valid indices\n"
     ]
    }
   ]
  },
  {
   "cell_type": "markdown",
   "metadata": {
    "id": "R8E793dS91pD"
   },
   "source": [
    "### logs"
   ]
  },
  {
   "cell_type": "code",
   "metadata": {
    "colab": {
     "base_uri": "https://localhost:8080/",
     "height": 499
    },
    "id": "Q46IobsEAnIa",
    "executionInfo": {
     "status": "ok",
     "timestamp": 1628357758955,
     "user_tz": -480,
     "elapsed": 1329,
     "user": {
      "displayName": "Jui-Te Huang",
      "photoUrl": "https://lh3.googleusercontent.com/a-/AOh14GioA6PIPFKbZb2-aw0ScD3obxPh0H9bkT1cyakMog=s64",
      "userId": "03810060886891291687"
     }
    },
    "outputId": "5a09ab40-5cfe-4a59-f4b3-13b4cd774551"
   },
   "source": [
    "fig = plt.figure(figsize=(16,8))\n",
    "indx = 1\n",
    "for k, v in log_metrics.items():\n",
    "  ax = plt.subplot(2,3,indx)\n",
    "  plt.title(k)\n",
    "  plt.plot(np.arange(len(v)), v)\n",
    "  indx+=1"
   ],
   "execution_count": null,
   "outputs": [
    {
     "output_type": "display_data",
     "data": {
      "image/png": "[encoded data removed]",
      "text/plain": [
       "<Figure size 1152x576 with 6 Axes>"
      ]
     },
     "metadata": {
      "tags": [],
      "needs_background": "light"
     }
    }
   ]
  },
  {
   "cell_type": "markdown",
   "metadata": {
    "id": "4CAHBQwJ2gSO"
   },
   "source": [
    "## load pretrained model (optional)"
   ]
  },
  {
   "cell_type": "code",
   "metadata": {
    "colab": {
     "base_uri": "https://localhost:8080/"
    },
    "id": "xLu5vMam5hv3",
    "executionInfo": {
     "status": "ok",
     "timestamp": 1626265739462,
     "user_tz": -480,
     "elapsed": 2608,
     "user": {
      "displayName": "Jui-Te Huang",
      "photoUrl": "https://lh3.googleusercontent.com/a-/AOh14GioA6PIPFKbZb2-aw0ScD3obxPh0H9bkT1cyakMog=s64",
      "userId": "03810060886891291687"
     }
    },
    "outputId": "9012f420-d5b7-4a75-a57e-a3f76464ded3"
   },
   "source": [
    "!gdown --id 1xgoDOfO4dFkqS11ChJd4THjP5oKTY-Mx"
   ],
   "execution_count": null,
   "outputs": [
    {
     "output_type": "stream",
     "text": [
      "Downloading...\n",
      "From: https://drive.google.com/uc?id=1xgoDOfO4dFkqS11ChJd4THjP5oKTY-Mx\n",
      "To: /content/0827_1851.pth\n",
      "\r0.00B [00:00, ?B/s]\r10.5MB [00:00, 156MB/s]\n"
     ],
     "name": "stdout"
    }
   ]
  },
  {
   "cell_type": "code",
   "metadata": {
    "colab": {
     "base_uri": "https://localhost:8080/"
    },
    "id": "coXwhZyW2fgX",
    "executionInfo": {
     "status": "ok",
     "timestamp": 1626265739464,
     "user_tz": -480,
     "elapsed": 18,
     "user": {
      "displayName": "Jui-Te Huang",
      "photoUrl": "https://lh3.googleusercontent.com/a-/AOh14GioA6PIPFKbZb2-aw0ScD3obxPh0H9bkT1cyakMog=s64",
      "userId": "03810060886891291687"
     }
    },
    "outputId": "da2f5ed0-bfca-4744-cf70-cfc53cf670c8"
   },
   "source": [
    "device = torch.device(\"cuda:0\" if torch.cuda.is_available() else \"cpu\")\n",
    "print('device, ', device)\n",
    "netG = Generator().to(device)\n",
    "\n",
    "netG.load_state_dict(torch.load(\"/content/0827_1851.pth\"))\n",
    "netG.eval()"
   ],
   "execution_count": null,
   "outputs": [
    {
     "output_type": "stream",
     "text": [
      "device,  cuda:0\n"
     ],
     "name": "stdout"
    },
    {
     "output_type": "execute_result",
     "data": {
      "text/plain": [
       "Generator(\n",
       "  (conv): Sequential(\n",
       "    (0): Conv1d(1, 64, kernel_size=(3,), stride=(2,))\n",
       "    (1): ReLU()\n",
       "    (2): Conv1d(64, 64, kernel_size=(3,), stride=(2,))\n",
       "    (3): ReLU()\n",
       "  )\n",
       "  (linear): Sequential(\n",
       "    (0): Linear(in_features=3776, out_features=512, bias=True)\n",
       "    (1): ReLU()\n",
       "    (2): Linear(in_features=512, out_features=128, bias=True)\n",
       "  )\n",
       "  (de_fc1): Sequential(\n",
       "    (0): Linear(in_features=128, out_features=4096, bias=True)\n",
       "    (1): ReLU()\n",
       "  )\n",
       "  (de_conv): Sequential(\n",
       "    (0): ConvTranspose1d(128, 64, kernel_size=(3,), stride=(2,), padding=(2,))\n",
       "    (1): ConvTranspose1d(64, 32, kernel_size=(3,), stride=(2,), padding=(2,))\n",
       "    (2): ConvTranspose1d(32, 1, kernel_size=(3,), stride=(2,), padding=(2,))\n",
       "  )\n",
       "  (adjust_linear): Sequential(\n",
       "    (0): Linear(in_features=235, out_features=241, bias=True)\n",
       "    (1): ReLU()\n",
       "  )\n",
       ")"
      ]
     },
     "metadata": {
      "tags": []
     },
     "execution_count": 13
    }
   ]
  },
  {
   "cell_type": "markdown",
   "metadata": {
    "id": "ognL6zj4Bsmq"
   },
   "source": [
    "## evaluation"
   ]
  },
  {
   "cell_type": "code",
   "metadata": {
    "colab": {
     "base_uri": "https://localhost:8080/"
    },
    "id": "ON0u8mJaON0V",
    "executionInfo": {
     "status": "ok",
     "timestamp": 1628357758956,
     "user_tz": -480,
     "elapsed": 11,
     "user": {
      "displayName": "Jui-Te Huang",
      "photoUrl": "https://lh3.googleusercontent.com/a-/AOh14GioA6PIPFKbZb2-aw0ScD3obxPh0H9bkT1cyakMog=s64",
      "userId": "03810060886891291687"
     }
    },
    "outputId": "5b79c068-6532-4e04-daa5-a5c1872b9231"
   },
   "source": [
    "name_corridor = [\n",
    "'0717_1411','0720_1129','0722_1428','0722_1437','0722_1448','0722_1500',\n",
    "'0722_1506','0722_1510','0722_1514','0724_1101','0724_1132','0724_1204',\n",
    "'0727_1005','0727_1027','0727_1102','0727_1435','0727_1452','0727_1510',\n",
    "'0727_1520','0805_1108','0805_1127','0805_1147']\n",
    "\n",
    "name_parking = ['0717_1504','0720_1105','0805_1349','0805_1425']\n",
    "\n",
    "paths_corridor, paths_parking = [], []\n",
    "main_path = '/content/pkl-transitions'\n",
    "dirs = os.listdir(main_path)\n",
    "dirs.sort()\n",
    "for d in dirs:\n",
    "    dirs1 = os.listdir(main_path+'/'+d)\n",
    "    dirs1.sort()\n",
    "    for d2 in dirs1:\n",
    "        if any(s in d2 for s in name_corridor):\n",
    "            paths_corridor.append(main_path+'/'+d+'/'+d2)\n",
    "        elif any(s in d2 for s in name_parking):\n",
    "            paths_parking.append(main_path+'/'+d+'/'+d2)\n",
    "print('corridor files %d'%len(paths_corridor))\n",
    "print('parking files %d'%len(paths_parking))"
   ],
   "execution_count": null,
   "outputs": [
    {
     "output_type": "stream",
     "text": [
      "corridor files 153\n",
      "parking files 31\n"
     ],
     "name": "stdout"
    }
   ]
  },
  {
   "cell_type": "code",
   "metadata": {
    "colab": {
     "base_uri": "https://localhost:8080/"
    },
    "id": "T_TmUbitOmNa",
    "executionInfo": {
     "status": "ok",
     "timestamp": 1628357761277,
     "user_tz": -480,
     "elapsed": 2329,
     "user": {
      "displayName": "Jui-Te Huang",
      "photoUrl": "https://lh3.googleusercontent.com/a-/AOh14GioA6PIPFKbZb2-aw0ScD3obxPh0H9bkT1cyakMog=s64",
      "userId": "03810060886891291687"
     }
    },
    "outputId": "21a02e06-1720-496b-841e-957c920db189"
   },
   "source": [
    "batch_size = 128\n",
    "netG.eval()\n",
    "\n",
    "corridor_dataset = MMDataset(paths_corridor)\n",
    "loader_corridor = DataLoader(dataset=corridor_dataset,\n",
    "                    batch_size=batch_size,\n",
    "                    shuffle=True,\n",
    "                    num_workers=2)\n",
    "\n",
    "parking_dataset = MMDataset(paths_parking)\n",
    "loader_parking = DataLoader(dataset=parking_dataset,\n",
    "                    batch_size=batch_size,\n",
    "                    shuffle=True,\n",
    "                    num_workers=2)"
   ],
   "execution_count": null,
   "outputs": [
    {
     "output_type": "stream",
     "text": [
      "100%|██████████| 153/153 [00:02<00:00, 68.61it/s]\n",
      "100%|██████████| 31/31 [00:00<00:00, 70.14it/s]\n"
     ],
     "name": "stderr"
    }
   ]
  },
  {
   "cell_type": "code",
   "metadata": {
    "colab": {
     "base_uri": "https://localhost:8080/"
    },
    "id": "hjYwBi4UPOFV",
    "executionInfo": {
     "status": "ok",
     "timestamp": 1628357763640,
     "user_tz": -480,
     "elapsed": 2366,
     "user": {
      "displayName": "Jui-Te Huang",
      "photoUrl": "https://lh3.googleusercontent.com/a-/AOh14GioA6PIPFKbZb2-aw0ScD3obxPh0H9bkT1cyakMog=s64",
      "userId": "03810060886891291687"
     }
    },
    "outputId": "71a09d36-2f9a-415c-8541-9d16fb9c83d4"
   },
   "source": [
    "l1 = nn.L1Loss()\n",
    "\n",
    "L1 = []\n",
    "for mm_scan, laser_scan in loader_corridor:\n",
    "    mm_scan = mm_scan.to(device)\n",
    "    \n",
    "    x_hat = netG(mm_scan)\n",
    "    x_hat = x_hat.detach().cpu()\n",
    "    \n",
    "    L1.append(l1(laser_scan,x_hat))\n",
    "    \n",
    "print(\"\\n corridor L1: %.4f\"%np.mean(L1))"
   ],
   "execution_count": null,
   "outputs": [
    {
     "output_type": "stream",
     "text": [
      "\n",
      " corridor L1: 0.0922\n"
     ],
     "name": "stdout"
    }
   ]
  },
  {
   "cell_type": "code",
   "metadata": {
    "colab": {
     "base_uri": "https://localhost:8080/"
    },
    "id": "F77rW6CCPaF7",
    "executionInfo": {
     "status": "ok",
     "timestamp": 1628357764302,
     "user_tz": -480,
     "elapsed": 676,
     "user": {
      "displayName": "Jui-Te Huang",
      "photoUrl": "https://lh3.googleusercontent.com/a-/AOh14GioA6PIPFKbZb2-aw0ScD3obxPh0H9bkT1cyakMog=s64",
      "userId": "03810060886891291687"
     }
    },
    "outputId": "b89e8769-4be2-42e5-e5b2-f224b951b537"
   },
   "source": [
    "L1 = []\n",
    "for mm_scan, laser_scan in loader_parking:\n",
    "    mm_scan = mm_scan.to(device)\n",
    "    \n",
    "    x_hat = netG(mm_scan)\n",
    "    x_hat = x_hat.detach().cpu()\n",
    "    \n",
    "    L1.append(l1(laser_scan,x_hat))\n",
    "\n",
    "    \n",
    "print(\"\\n parking L1: %.4f\"%np.mean(L1))"
   ],
   "execution_count": null,
   "outputs": [
    {
     "output_type": "stream",
     "text": [
      "\n",
      " parking L1: 0.1078\n"
     ],
     "name": "stdout"
    }
   ]
  },
  {
   "cell_type": "markdown",
   "metadata": {
    "id": "kmQKEUuNQZ_b"
   },
   "source": [
    "### reconstruct sample\n",
    "repeate this block to visualize different samples"
   ]
  },
  {
   "cell_type": "code",
   "metadata": {
    "colab": {
     "base_uri": "https://localhost:8080/",
     "height": 487
    },
    "id": "QyRatC2nQZ_b",
    "executionInfo": {
     "status": "ok",
     "timestamp": 1628357875244,
     "user_tz": -480,
     "elapsed": 457,
     "user": {
      "displayName": "Jui-Te Huang",
      "photoUrl": "https://lh3.googleusercontent.com/a-/AOh14GioA6PIPFKbZb2-aw0ScD3obxPh0H9bkT1cyakMog=s64",
      "userId": "03810060886891291687"
     }
    },
    "outputId": "9a2ff9af-ed2c-45ad-fe97-1141c96591e8"
   },
   "source": [
    "sample_loader=loader\n",
    "# sample_loader=loader_corridor\n",
    "# sample_loader=loader_parking\n",
    "\n",
    "mm_scan, laser_scan = next(iter(sample_loader))\n",
    "x = mm_scan.to(device)\n",
    "reconstruct = netG(x)[0][0].detach().cpu().numpy()\n",
    "mm_scan=mm_scan[0][0].numpy()\n",
    "laser_scan=laser_scan[0][0].numpy()\n",
    "\n",
    "laser_visual([mm_scan, laser_scan, reconstruct], names=['radar', 'lidar', 'reconstruct'], range_limit=4.9)"
   ],
   "execution_count": null,
   "outputs": [
    {
     "output_type": "display_data",
     "data": {
      "image/png": "[encoded data removed]",
      "text/plain": [
       "<Figure size 576x576 with 1 Axes>"
      ]
     },
     "metadata": {
      "tags": [],
      "needs_background": "light"
     }
    }
   ]
  }
 ]
}